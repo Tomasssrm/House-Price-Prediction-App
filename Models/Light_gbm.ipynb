{
 "cells": [
  {
   "cell_type": "code",
   "execution_count": 2,
   "id": "8a119ec2",
   "metadata": {},
   "outputs": [
    {
     "name": "stderr",
     "output_type": "stream",
     "text": [
      "c:\\Users\\tomas\\Documents\\House-Price-Prediction-App_local\\venv\\Lib\\site-packages\\tqdm\\auto.py:21: TqdmWarning: IProgress not found. Please update jupyter and ipywidgets. See https://ipywidgets.readthedocs.io/en/stable/user_install.html\n",
      "  from .autonotebook import tqdm as notebook_tqdm\n"
     ]
    }
   ],
   "source": [
    "import pandas as pd\n",
    "import numpy as np\n",
    "from sklearn.model_selection import train_test_split\n",
    "from sklearn.metrics import mean_squared_error, r2_score, mean_absolute_error, mean_absolute_percentage_error\n",
    "import matplotlib.pyplot as plt\n",
    "import seaborn as sns\n",
    "from sklearn.preprocessing import LabelEncoder\n",
    "import lightgbm as lgb\n",
    "from lightgbm import LGBMRegressor\n",
    "import joblib\n",
    "import pickle\n",
    "import optuna"
   ]
  },
  {
   "cell_type": "code",
   "execution_count": 3,
   "id": "be9e61a4",
   "metadata": {},
   "outputs": [],
   "source": [
    "df = pd.read_csv('../Data/Real_Estate_Model.csv')"
   ]
  },
  {
   "cell_type": "code",
   "execution_count": 4,
   "id": "b6fd0a8e",
   "metadata": {},
   "outputs": [],
   "source": [
    "df['state'] = df['state'].astype('category')\n",
    "df['city'] = df['city'].astype('category')"
   ]
  },
  {
   "cell_type": "code",
   "execution_count": 5,
   "id": "5ac06d40",
   "metadata": {},
   "outputs": [
    {
     "data": {
      "application/vnd.microsoft.datawrangler.viewer.v0+json": {
       "columns": [
        {
         "name": "index",
         "rawType": "object",
         "type": "string"
        },
        {
         "name": "0",
         "rawType": "object",
         "type": "unknown"
        }
       ],
       "ref": "d23fa53e-c4a2-4182-b652-c2aac43f5133",
       "rows": [
        [
         "status",
         "object"
        ],
        [
         "price",
         "float64"
        ],
        [
         "bed",
         "int64"
        ],
        [
         "bath",
         "int64"
        ],
        [
         "city",
         "category"
        ],
        [
         "state",
         "category"
        ],
        [
         "zip_code",
         "float64"
        ],
        [
         "house_size",
         "float64"
        ],
        [
         "Price_per_sqft",
         "float64"
        ]
       ],
       "shape": {
        "columns": 1,
        "rows": 9
       }
      },
      "text/plain": [
       "status              object\n",
       "price              float64\n",
       "bed                  int64\n",
       "bath                 int64\n",
       "city              category\n",
       "state             category\n",
       "zip_code           float64\n",
       "house_size         float64\n",
       "Price_per_sqft     float64\n",
       "dtype: object"
      ]
     },
     "execution_count": 5,
     "metadata": {},
     "output_type": "execute_result"
    }
   ],
   "source": [
    "df.dtypes"
   ]
  },
  {
   "cell_type": "code",
   "execution_count": 7,
   "id": "473a7577",
   "metadata": {},
   "outputs": [
    {
     "name": "stderr",
     "output_type": "stream",
     "text": [
      "c:\\Users\\tomas\\Documents\\House-Price-Prediction-App_local\\venv\\Lib\\site-packages\\lightgbm\\basic.py:2159: UserWarning: categorical_features in param dict is overridden.\n",
      "  _log_warning(f\"{cat_alias} in param dict is overridden.\")\n",
      "c:\\Users\\tomas\\Documents\\House-Price-Prediction-App_local\\venv\\Lib\\site-packages\\lightgbm\\basic.py:2159: UserWarning: categorical_features in param dict is overridden.\n",
      "  _log_warning(f\"{cat_alias} in param dict is overridden.\")\n"
     ]
    },
    {
     "name": "stdout",
     "output_type": "stream",
     "text": [
      "[LightGBM] [Warning] Unknown parameter: eval_metric\n",
      "[LightGBM] [Warning] Categorical features with more bins than the configured maximum bin number found.\n",
      "[LightGBM] [Warning] For categorical features, max_bin and max_bin_by_feature may be ignored with a large number of categories.\n",
      "[LightGBM] [Warning] Unknown parameter: eval_metric\n",
      "[LightGBM] [Warning] categorical_feature is set with categorical_column=2,3, categorical_features=state,city will be ignored. Current value: categorical_feature=2,3\n",
      "[LightGBM] [Info] Auto-choosing col-wise multi-threading, the overhead of testing was 0.015845 seconds.\n",
      "You can set `force_col_wise=true` to remove the overhead.\n",
      "[LightGBM] [Info] Total Bins 7268\n",
      "[LightGBM] [Info] Number of data points in the train set: 1146051, number of used features: 5\n",
      "[LightGBM] [Warning] Unknown parameter: eval_metric\n",
      "[LightGBM] [Info] Start training from score 349900.000000\n",
      "[LightGBM] [Warning] Unknown parameter: eval_metric\n",
      "0.29565728258480817\n"
     ]
    }
   ],
   "source": [
    "categorical_features = ['state', 'city']\n",
    "X = df[['bed', 'bath', 'state', 'city', 'house_size']]\n",
    "y = df['price']\n",
    "\n",
    "X_train, X_test, y_train, y_test = train_test_split(X, y, test_size=0.2, random_state=42)\n",
    "\n",
    "base_model = LGBMRegressor(\n",
    "    objective='regression_l1',\n",
    "    boosting_type='gbdt',\n",
    "    learning_rate=0.05,\n",
    "    verbose=1,\n",
    "    random_state=42,\n",
    "    eval_metric='mape',\n",
    "    categorical_features=categorical_features, \n",
    ")\n",
    "\n",
    "base_model.fit(\n",
    "    X_train, y_train,\n",
    "    eval_set=[(X_test, y_test)],\n",
    "    )\n",
    "\n",
    "base_predictions = base_model.predict(X_test)\n",
    "\n",
    "base_mape = mean_absolute_percentage_error(y_test, base_predictions)\n",
    "\n",
    "print(base_mape)\n"
   ]
  },
  {
   "cell_type": "code",
   "execution_count": null,
   "id": "cc9bca96",
   "metadata": {},
   "outputs": [
    {
     "name": "stderr",
     "output_type": "stream",
     "text": [
      "[I 2025-06-01 11:22:46,328] A new study created in memory with name: no-name-73d4833a-798b-4696-b442-63e45b131d20\n",
      "[I 2025-06-01 11:23:58,270] Trial 0 finished with value: 0.24448703333943445 and parameters: {'n_estimators': 1231, 'learning_rate': 0.24325323525905887, 'num_leaves': 48, 'max_depth': 15, 'min_child_samples': 59, 'subsample': 0.9858702343900108, 'colsample_bytree': 0.7708928577088179, 'reg_alpha': 0.024410574663249775, 'reg_lambda': 3.2677033053893015e-07}. Best is trial 0 with value: 0.24448703333943445.\n",
      "[I 2025-06-01 11:25:17,264] Trial 1 finished with value: 0.26210584633281847 and parameters: {'n_estimators': 2174, 'learning_rate': 0.24109468211028828, 'num_leaves': 61, 'max_depth': 4, 'min_child_samples': 63, 'subsample': 0.6057581664384972, 'colsample_bytree': 0.6526587978245426, 'reg_alpha': 0.0002921109174872534, 'reg_lambda': 0.00010231804717357034}. Best is trial 0 with value: 0.24448703333943445.\n",
      "[I 2025-06-01 11:26:56,324] Trial 2 finished with value: 0.2430985682548316 and parameters: {'n_estimators': 1994, 'learning_rate': 0.24949333294512807, 'num_leaves': 152, 'max_depth': 15, 'min_child_samples': 52, 'subsample': 0.7221817873187227, 'colsample_bytree': 0.9741723678489173, 'reg_alpha': 6.233820349787887e-07, 'reg_lambda': 1.234360613859355e-08}. Best is trial 2 with value: 0.2430985682548316.\n",
      "[I 2025-06-01 11:27:23,029] Trial 3 finished with value: 0.24452937567560235 and parameters: {'n_estimators': 423, 'learning_rate': 0.2200631314553524, 'num_leaves': 220, 'max_depth': 13, 'min_child_samples': 39, 'subsample': 0.8629175196780776, 'colsample_bytree': 0.8425417533585289, 'reg_alpha': 5.347357479895875e-08, 'reg_lambda': 2.765939662436101e-08}. Best is trial 2 with value: 0.2430985682548316.\n",
      "[I 2025-06-01 11:28:08,305] Trial 4 finished with value: 0.2678093107240811 and parameters: {'n_estimators': 877, 'learning_rate': 0.045000731322077936, 'num_leaves': 168, 'max_depth': 8, 'min_child_samples': 57, 'subsample': 0.8252161212357165, 'colsample_bytree': 0.6913018328693838, 'reg_alpha': 2.73688898000374e-07, 'reg_lambda': 0.20856071137436125}. Best is trial 2 with value: 0.2430985682548316.\n",
      "[I 2025-06-01 11:29:44,856] Trial 5 finished with value: 0.2454867651702613 and parameters: {'n_estimators': 1495, 'learning_rate': 0.10291559300160423, 'num_leaves': 182, 'max_depth': 13, 'min_child_samples': 41, 'subsample': 0.6794674054362375, 'colsample_bytree': 0.6368217103809676, 'reg_alpha': 6.726668332446271e-06, 'reg_lambda': 0.0006411601335419013}. Best is trial 2 with value: 0.2430985682548316.\n",
      "[I 2025-06-01 11:30:49,089] Trial 6 finished with value: 0.24561643999101024 and parameters: {'n_estimators': 1298, 'learning_rate': 0.1992745784615206, 'num_leaves': 35, 'max_depth': 14, 'min_child_samples': 47, 'subsample': 0.7410216843889597, 'colsample_bytree': 0.9745426887202868, 'reg_alpha': 0.09445659581949095, 'reg_lambda': 1.7279213298029913e-07}. Best is trial 2 with value: 0.2430985682548316.\n",
      "[I 2025-06-01 11:31:58,519] Trial 7 finished with value: 0.24950806809826276 and parameters: {'n_estimators': 1167, 'learning_rate': 0.03453085583528266, 'num_leaves': 112, 'max_depth': 11, 'min_child_samples': 79, 'subsample': 0.9161921976390193, 'colsample_bytree': 0.9749713544167414, 'reg_alpha': 0.002383183512866916, 'reg_lambda': 2.175037735459223e-05}. Best is trial 2 with value: 0.2430985682548316.\n",
      "[I 2025-06-01 11:32:54,951] Trial 8 finished with value: 0.2482629148338093 and parameters: {'n_estimators': 1366, 'learning_rate': 0.15174297213520704, 'num_leaves': 142, 'max_depth': 7, 'min_child_samples': 15, 'subsample': 0.8571710814569062, 'colsample_bytree': 0.8200911621924079, 'reg_alpha': 0.31721948688639984, 'reg_lambda': 0.23841055000560354}. Best is trial 2 with value: 0.2430985682548316.\n",
      "[I 2025-06-01 11:33:32,624] Trial 9 finished with value: 0.25045917946887586 and parameters: {'n_estimators': 784, 'learning_rate': 0.0721960694394767, 'num_leaves': 77, 'max_depth': 11, 'min_child_samples': 71, 'subsample': 0.9533050610689993, 'colsample_bytree': 0.7372841313451046, 'reg_alpha': 2.5089892194302656e-07, 'reg_lambda': 4.452452158190259e-06}. Best is trial 2 with value: 0.2430985682548316.\n",
      "[I 2025-06-01 11:34:44,365] Trial 10 finished with value: 0.2646824875307956 and parameters: {'n_estimators': 2393, 'learning_rate': 0.2887760613407656, 'num_leaves': 299, 'max_depth': 3, 'min_child_samples': 16, 'subsample': 0.7415282287203016, 'colsample_bytree': 0.8986404642079732, 'reg_alpha': 4.132840449212705e-06, 'reg_lambda': 0.0060512529631742565}. Best is trial 2 with value: 0.2430985682548316.\n",
      "[I 2025-06-01 11:36:22,876] Trial 11 finished with value: 0.24195004139743187 and parameters: {'n_estimators': 1869, 'learning_rate': 0.29614027738275295, 'num_leaves': 237, 'max_depth': 15, 'min_child_samples': 87, 'subsample': 0.9996404025825995, 'colsample_bytree': 0.7696253903163898, 'reg_alpha': 0.004728123023550031, 'reg_lambda': 4.879271090153585e-07}. Best is trial 11 with value: 0.24195004139743187.\n",
      "[I 2025-06-01 11:37:15,203] Trial 12 finished with value: 0.24305094723060924 and parameters: {'n_estimators': 1882, 'learning_rate': 0.29657852495168213, 'num_leaves': 242, 'max_depth': 15, 'min_child_samples': 98, 'subsample': 0.7566071403778623, 'colsample_bytree': 0.8743438249742456, 'reg_alpha': 4.624122104675609e-05, 'reg_lambda': 1.066672242257004e-08}. Best is trial 11 with value: 0.24195004139743187.\n",
      "[I 2025-06-01 11:38:48,509] Trial 13 finished with value: 0.24491928336665023 and parameters: {'n_estimators': 1779, 'learning_rate': 0.29843038425839685, 'num_leaves': 255, 'max_depth': 11, 'min_child_samples': 99, 'subsample': 0.8011839101167126, 'colsample_bytree': 0.8797410202881779, 'reg_alpha': 0.00013392198927206003, 'reg_lambda': 1.7394051697076234e-06}. Best is trial 11 with value: 0.24195004139743187.\n",
      "[I 2025-06-01 11:40:04,217] Trial 14 finished with value: 0.2507949823908528 and parameters: {'n_estimators': 1769, 'learning_rate': 0.16968923209318826, 'num_leaves': 235, 'max_depth': 6, 'min_child_samples': 97, 'subsample': 0.9193595345951932, 'colsample_bytree': 0.7472497828494613, 'reg_alpha': 0.007198448496998086, 'reg_lambda': 1.957978578019355e-07}. Best is trial 11 with value: 0.24195004139743187.\n",
      "[I 2025-06-01 11:40:46,969] Trial 15 finished with value: 0.24528359412196574 and parameters: {'n_estimators': 2430, 'learning_rate': 0.28139431872704807, 'num_leaves': 290, 'max_depth': 12, 'min_child_samples': 83, 'subsample': 0.6566173767750738, 'colsample_bytree': 0.9011466782285702, 'reg_alpha': 0.0010342086859422097, 'reg_lambda': 1.4795110637250635e-08}. Best is trial 11 with value: 0.24195004139743187.\n",
      "[I 2025-06-01 11:42:15,191] Trial 16 finished with value: 0.24576574465962525 and parameters: {'n_estimators': 1701, 'learning_rate': 0.13087863554377066, 'num_leaves': 205, 'max_depth': 9, 'min_child_samples': 88, 'subsample': 0.7764229112373102, 'colsample_bytree': 0.7949762067177981, 'reg_alpha': 1.7816639080098703e-05, 'reg_lambda': 2.111888503294734e-06}. Best is trial 11 with value: 0.24195004139743187.\n",
      "[I 2025-06-01 11:43:42,090] Trial 17 finished with value: 0.24166190618479422 and parameters: {'n_estimators': 2071, 'learning_rate': 0.19432228507531457, 'num_leaves': 266, 'max_depth': 15, 'min_child_samples': 73, 'subsample': 0.8802795742930485, 'colsample_bytree': 0.7050089143707808, 'reg_alpha': 0.8464810088445976, 'reg_lambda': 1.2468287802882515e-07}. Best is trial 17 with value: 0.24166190618479422.\n",
      "[I 2025-06-01 11:45:25,286] Trial 18 finished with value: 0.2455241073708908 and parameters: {'n_estimators': 2160, 'learning_rate': 0.19239454322149172, 'num_leaves': 268, 'max_depth': 13, 'min_child_samples': 70, 'subsample': 0.990518621500696, 'colsample_bytree': 0.6993605882365111, 'reg_alpha': 0.8286548748414981, 'reg_lambda': 3.6627421783174556e-05}. Best is trial 17 with value: 0.24166190618479422.\n",
      "[I 2025-06-01 11:47:30,965] Trial 19 finished with value: 0.2476263577853058 and parameters: {'n_estimators': 2134, 'learning_rate': 0.11572639926004909, 'num_leaves': 206, 'max_depth': 10, 'min_child_samples': 74, 'subsample': 0.9009608194211273, 'colsample_bytree': 0.6164160074753643, 'reg_alpha': 0.036854399238770305, 'reg_lambda': 0.0007055626763463984}. Best is trial 17 with value: 0.24166190618479422.\n",
      "[I 2025-06-01 11:49:23,373] Trial 20 finished with value: 0.24548589783352942 and parameters: {'n_estimators': 1579, 'learning_rate': 0.2612222197935206, 'num_leaves': 270, 'max_depth': 14, 'min_child_samples': 28, 'subsample': 0.8613897012086755, 'colsample_bytree': 0.6987854604367849, 'reg_alpha': 0.1867144503413896, 'reg_lambda': 5.808882407889045e-07}. Best is trial 17 with value: 0.24166190618479422.\n",
      "[I 2025-06-01 11:51:13,193] Trial 21 finished with value: 0.2420686485919072 and parameters: {'n_estimators': 1930, 'learning_rate': 0.2678747913164623, 'num_leaves': 238, 'max_depth': 15, 'min_child_samples': 90, 'subsample': 0.9520694809084759, 'colsample_bytree': 0.8256471706678212, 'reg_alpha': 3.589525267204128e-05, 'reg_lambda': 9.430050402574737e-08}. Best is trial 17 with value: 0.24166190618479422.\n",
      "[I 2025-06-01 11:53:46,742] Trial 22 finished with value: 0.241705883338138 and parameters: {'n_estimators': 2003, 'learning_rate': 0.2159927946483859, 'num_leaves': 197, 'max_depth': 14, 'min_child_samples': 80, 'subsample': 0.9494861930079335, 'colsample_bytree': 0.7782315845303355, 'reg_alpha': 0.0006702101352108168, 'reg_lambda': 7.738214163384698e-08}. Best is trial 17 with value: 0.24166190618479422.\n",
      "[I 2025-06-01 11:55:49,437] Trial 23 finished with value: 0.24183394755135665 and parameters: {'n_estimators': 2494, 'learning_rate': 0.2151094779498849, 'num_leaves': 192, 'max_depth': 14, 'min_child_samples': 84, 'subsample': 0.9501236498262565, 'colsample_bytree': 0.7365891454669202, 'reg_alpha': 0.0006752861462497318, 'reg_lambda': 8.274334248868794e-06}. Best is trial 17 with value: 0.24166190618479422.\n",
      "[I 2025-06-01 11:57:20,556] Trial 24 finished with value: 0.2451301930624968 and parameters: {'n_estimators': 2439, 'learning_rate': 0.21335456787435014, 'num_leaves': 122, 'max_depth': 13, 'min_child_samples': 65, 'subsample': 0.9505693273137489, 'colsample_bytree': 0.6676140643914574, 'reg_alpha': 0.00034932792306564077, 'reg_lambda': 8.654923857389047e-06}. Best is trial 17 with value: 0.24166190618479422.\n",
      "[I 2025-06-01 11:58:42,194] Trial 25 finished with value: 0.24335426291839596 and parameters: {'n_estimators': 2255, 'learning_rate': 0.17162496814332442, 'num_leaves': 185, 'max_depth': 12, 'min_child_samples': 78, 'subsample': 0.8926158037950241, 'colsample_bytree': 0.7289748548006031, 'reg_alpha': 0.016845237644908383, 'reg_lambda': 6.15094138623797e-08}. Best is trial 17 with value: 0.24166190618479422.\n",
      "[I 2025-06-01 12:01:24,714] Trial 26 finished with value: 0.2413285969921161 and parameters: {'n_estimators': 2306, 'learning_rate': 0.1859213566487116, 'num_leaves': 198, 'max_depth': 14, 'min_child_samples': 68, 'subsample': 0.9412607079861021, 'colsample_bytree': 0.7814810673743183, 'reg_alpha': 0.00125042803045897, 'reg_lambda': 9.387128504220385e-07}. Best is trial 26 with value: 0.2413285969921161.\n",
      "[I 2025-06-01 12:03:33,486] Trial 27 finished with value: 0.2453420232705516 and parameters: {'n_estimators': 2033, 'learning_rate': 0.15336202625664108, 'num_leaves': 214, 'max_depth': 12, 'min_child_samples': 65, 'subsample': 0.8180584119986645, 'colsample_bytree': 0.603574884712287, 'reg_alpha': 0.0018706311153562846, 'reg_lambda': 1.1227916917506191e-06}. Best is trial 26 with value: 0.2413285969921161.\n",
      "[I 2025-06-01 12:05:51,752] Trial 28 finished with value: 0.24165052173840554 and parameters: {'n_estimators': 2266, 'learning_rate': 0.1851994289850331, 'num_leaves': 165, 'max_depth': 14, 'min_child_samples': 6, 'subsample': 0.887393149923909, 'colsample_bytree': 0.7753676428421572, 'reg_alpha': 1.7696374912245182e-08, 'reg_lambda': 6.718856865170587e-08}. Best is trial 26 with value: 0.2413285969921161.\n",
      "[I 2025-06-01 12:07:36,539] Trial 29 finished with value: 0.24485418907711215 and parameters: {'n_estimators': 2234, 'learning_rate': 0.17520653492704397, 'num_leaves': 105, 'max_depth': 10, 'min_child_samples': 5, 'subsample': 0.8822699169255526, 'colsample_bytree': 0.7627862442547739, 'reg_alpha': 2.196625081176236e-08, 'reg_lambda': 2.991159957578317e-07}. Best is trial 26 with value: 0.2413285969921161.\n",
      "[I 2025-06-01 12:10:17,145] Trial 30 finished with value: 0.24130043594261388 and parameters: {'n_estimators': 2347, 'learning_rate': 0.13683995720095177, 'num_leaves': 138, 'max_depth': 14, 'min_child_samples': 33, 'subsample': 0.8283073406050722, 'colsample_bytree': 0.8023276621291044, 'reg_alpha': 2.5725931750246284e-06, 'reg_lambda': 4.654454671063946e-08}. Best is trial 30 with value: 0.24130043594261388.\n",
      "[I 2025-06-01 12:12:54,603] Trial 31 finished with value: 0.24110734407783865 and parameters: {'n_estimators': 2291, 'learning_rate': 0.13428373008141692, 'num_leaves': 131, 'max_depth': 14, 'min_child_samples': 26, 'subsample': 0.8496528366128016, 'colsample_bytree': 0.8005519390047512, 'reg_alpha': 1.8502963998477166e-06, 'reg_lambda': 4.1465016497023786e-08}. Best is trial 31 with value: 0.24110734407783865.\n",
      "[I 2025-06-01 12:15:18,230] Trial 32 finished with value: 0.2410810840084466 and parameters: {'n_estimators': 2290, 'learning_rate': 0.13154899893091293, 'num_leaves': 145, 'max_depth': 14, 'min_child_samples': 28, 'subsample': 0.8400138011878452, 'colsample_bytree': 0.8473222979997311, 'reg_alpha': 1.523906681766431e-06, 'reg_lambda': 3.558991834394732e-08}. Best is trial 32 with value: 0.2410810840084466.\n"
     ]
    }
   ],
   "source": [
    "def objective(trial):\n",
    "    \"\"\"This function is what Optuna will try to minimize.\"\"\"\n",
    "    #Parameters to tune\n",
    "    params = {\n",
    "        'objective': 'regression_l1',\n",
    "        'metric': 'mape',\n",
    "        'boosting_type': 'gbdt',\n",
    "        'n_estimators': trial.suggest_int('n_estimators', 200, 2500),\n",
    "        'learning_rate': trial.suggest_float('learning_rate', 0.01, 0.3),\n",
    "        'num_leaves': trial.suggest_int('num_leaves', 20, 300),\n",
    "        'max_depth': trial.suggest_int('max_depth', 3, 15),\n",
    "        'min_child_samples': trial.suggest_int('min_child_samples', 5, 100),\n",
    "        'subsample': trial.suggest_float('subsample', 0.6, 1.0),\n",
    "        'colsample_bytree': trial.suggest_float('colsample_bytree', 0.6, 1.0),\n",
    "        'reg_alpha': trial.suggest_float('reg_alpha', 1e-8, 1.0, log=True), # L1 regularization\n",
    "        'reg_lambda': trial.suggest_float('reg_lambda', 1e-8, 1.0, log=True), # L2 regularization\n",
    "        'random_state': 42,\n",
    "        'verbose': -1,\n",
    "        'n_jobs': -1 \n",
    "    }\n",
    "    #Create the model\n",
    "    model = LGBMRegressor(**params)\n",
    "    #Train the model\n",
    "    model.fit(\n",
    "        X_train, y_train,\n",
    "        eval_set=[(X_test, y_test)],\n",
    "        eval_metric='mape',\n",
    "        callbacks=[lgb.early_stopping(stopping_rounds=100, verbose=False)]\n",
    "    )\n",
    "\n",
    "    #Evaluation of the model\n",
    "    preds = model.predict(X_test)\n",
    "    mape = mean_absolute_percentage_error(y_test, preds)\n",
    "\n",
    "    return mape\n",
    "\n",
    "#Objective is to minimize MAPE\n",
    "study = optuna.create_study(direction='minimize')\n",
    "study.optimize(objective, n_trials=100)\n",
    "\n",
    "\n",
    "# --- 4. Get the Best Results and Train Final Model ---\n",
    "print(\"\\nOptuna study finished.\")\n",
    "print(\"Best trial:\")\n",
    "best_trial = study.best_trial\n",
    "\n",
    "print(f\"  Value (Best MAPE during tuning): {best_trial.value:.4f}\")\n",
    "print(\"  Best Params: \")\n",
    "for key, value in best_trial.params.items():\n",
    "    print(f\"    {key}: {value}\")\n",
    "\n",
    "#Best parameters from the study\n",
    "best_params = best_trial.params\n",
    "\n",
    "#Add back the fixed parameters needed for the final model\n",
    "best_params['objective'] = 'regression_l1'\n",
    "best_params['metric'] = 'mape'\n",
    "best_params['boosting_type'] = 'gbdt'\n",
    "best_params['random_state'] = 42\n",
    "best_params['verbose'] = -1\n",
    "best_params['n_jobs'] = -1\n",
    "\n",
    "#Train the final model with the best parameters\n",
    "best_model = lgb.LGBMRegressor(**best_params)\n",
    "best_model.fit(X_train, y_train)\n",
    "best_pred = best_model.predict(X_test)\n",
    "\n",
    "#Calculate all performance metrics\n",
    "mae_best = mean_absolute_error(y_test, best_pred)\n",
    "rmse_best = np.sqrt(mean_squared_error(y_test, best_pred))\n",
    "mape_best = mean_absolute_percentage_error(y_test, best_pred) # Sklearn's MAPE is preferred\n",
    "r2_best = r2_score(y_test, best_pred)\n",
    "\n",
    "print(\"\\n--- Final Best Model Performance on Test Set ---\")\n",
    "print(f\"MAE: {mae_best:.4f}\")\n",
    "print(f\"RMSE: {rmse_best:.4f}\")\n",
    "print(f\"MAPE: {mape_best:.4f}\") # This will be very close to the 'Best trial Value'\n",
    "print(f\"R2 Score: {r2_best:.4f}\")\n",
    "print(\"------------------------------------------------\")\n",
    "\n",
    "# Save the final, tuned model for your Streamlit app\n",
    "# with open('tuned_lgbm_model.pkl', 'wb') as f:\n",
    "#     pickle.dump(best_model, f)\n",
    "joblib.dump(best_model, 'tuned_lgbm_model.pkl', compress = True)\n",
    "\n",
    "print(\"\\nFinal model trained, evaluated, and saved as 'tuned_lgbm_model.pkl'\")\n"
   ]
  },
  {
   "cell_type": "markdown",
   "id": "17704d34",
   "metadata": {},
   "source": [
    "Performance by price segment"
   ]
  },
  {
   "cell_type": "code",
   "execution_count": 8,
   "id": "92f5500e",
   "metadata": {},
   "outputs": [
    {
     "name": "stdout",
     "output_type": "stream",
     "text": [
      "segment\n",
      "<300k        35.216622\n",
      "300k-400k    15.646312\n",
      "400k-500k    15.309972\n",
      "500k-1M      16.850587\n",
      "1M+                NaN\n",
      "Name: pct_error, dtype: float64\n"
     ]
    },
    {
     "name": "stderr",
     "output_type": "stream",
     "text": [
      "C:\\Users\\tomas\\AppData\\Local\\Temp\\ipykernel_36516\\3658000176.py:8: FutureWarning: The default of observed=False is deprecated and will be changed to True in a future version of pandas. Pass observed=False to retain current behavior or observed=True to adopt the future default and silence this warning.\n",
      "  mape_by_segment = segment_df.groupby('segment')['pct_error'].mean()\n"
     ]
    }
   ],
   "source": [
    "bins = [0, 300_000, 400_000, 500_000, 1_000_000, float('inf')]\n",
    "labels = ['<300k', '300k-400k', '400k-500k', '500k-1M', '1M+']\n",
    "\n",
    "price_segments = pd.cut(y_test, bins=bins, labels=labels)\n",
    "segment_df = pd.DataFrame({'actual': y_test, 'pred': best_pred, 'segment': price_segments})\n",
    "segment_df['pct_error'] = np.abs(segment_df['actual'] - segment_df['pred']) / segment_df['actual'] * 100\n",
    "\n",
    "mape_by_segment = segment_df.groupby('segment')['pct_error'].mean()\n",
    "print(mape_by_segment)"
   ]
  },
  {
   "cell_type": "code",
   "execution_count": 8,
   "id": "bab3005e",
   "metadata": {},
   "outputs": [
    {
     "data": {
      "image/png": "[encoded data removed]",
      "text/plain": [
       "<Figure size 1000x600 with 1 Axes>"
      ]
     },
     "metadata": {},
     "output_type": "display_data"
    }
   ],
   "source": [
    "best_feature_importance = best_model.feature_importances_\n",
    "features = X.columns\n",
    "plt.figure(figsize=(10, 6))\n",
    "plt.barh(features, best_feature_importance)\n",
    "plt.xlabel('Feature Importance')\n",
    "plt.ylabel('Feature')\n",
    "plt.title('Feature Importance of the Best Model')\n",
    "plt.show()"
   ]
  },
  {
   "cell_type": "markdown",
   "id": "e37c9854",
   "metadata": {},
   "source": [
    "Low model"
   ]
  },
  {
   "cell_type": "code",
   "execution_count": null,
   "id": "ac4a501b",
   "metadata": {},
   "outputs": [
    {
     "name": "stderr",
     "output_type": "stream",
     "text": [
      "[I 2025-05-26 21:17:16,931] A new study created in memory with name: no-name-5ad6fe82-c60b-4936-b22d-05566d6885f1\n",
      "[I 2025-05-26 21:17:38,415] Trial 0 finished with value: 0.25540167073110787 and parameters: {'n_estimators': 1146, 'learning_rate': 0.21026113991778536, 'num_leaves': 239, 'max_depth': 6, 'min_child_samples': 47, 'subsample': 0.6415451068272081, 'colsample_bytree': 0.9627988886877299, 'reg_alpha': 8.332230527252972e-05, 'reg_lambda': 0.18594659886925796}. Best is trial 0 with value: 0.25540167073110787.\n",
      "[I 2025-05-26 21:18:11,986] Trial 1 finished with value: 0.25212584754357154 and parameters: {'n_estimators': 1455, 'learning_rate': 0.20084447123156118, 'num_leaves': 216, 'max_depth': 12, 'min_child_samples': 68, 'subsample': 0.9995724241180097, 'colsample_bytree': 0.6281477794488144, 'reg_alpha': 1.3904746283840782e-08, 'reg_lambda': 3.059455418246815e-08}. Best is trial 1 with value: 0.25212584754357154.\n",
      "[I 2025-05-26 21:18:23,674] Trial 2 finished with value: 0.2712764261074416 and parameters: {'n_estimators': 937, 'learning_rate': 0.09744020726427702, 'num_leaves': 66, 'max_depth': 3, 'min_child_samples': 57, 'subsample': 0.660087243846877, 'colsample_bytree': 0.8840437649212609, 'reg_alpha': 1.207426833839612e-07, 'reg_lambda': 0.002138290467646191}. Best is trial 1 with value: 0.25212584754357154.\n",
      "[I 2025-05-26 21:18:37,145] Trial 3 finished with value: 0.2540058493042306 and parameters: {'n_estimators': 613, 'learning_rate': 0.29849475807904857, 'num_leaves': 75, 'max_depth': 11, 'min_child_samples': 88, 'subsample': 0.7561477410891857, 'colsample_bytree': 0.6339144371561527, 'reg_alpha': 4.383743069245588e-06, 'reg_lambda': 8.36289706248652e-08}. Best is trial 1 with value: 0.25212584754357154.\n",
      "[I 2025-05-26 21:19:07,057] Trial 4 finished with value: 0.254743180462769 and parameters: {'n_estimators': 1352, 'learning_rate': 0.2904282941572429, 'num_leaves': 191, 'max_depth': 8, 'min_child_samples': 92, 'subsample': 0.7579811336421731, 'colsample_bytree': 0.6298150942232369, 'reg_alpha': 9.247241778234152e-07, 'reg_lambda': 0.0007500483023091621}. Best is trial 1 with value: 0.25212584754357154.\n",
      "[I 2025-05-26 21:19:17,498] Trial 5 finished with value: 0.25786474316974844 and parameters: {'n_estimators': 401, 'learning_rate': 0.11597716736146724, 'num_leaves': 195, 'max_depth': 11, 'min_child_samples': 21, 'subsample': 0.8896176938256559, 'colsample_bytree': 0.6726654463565219, 'reg_alpha': 0.3387128235973207, 'reg_lambda': 0.0009566421495661677}. Best is trial 1 with value: 0.25212584754357154.\n",
      "[I 2025-05-26 21:19:24,102] Trial 6 finished with value: 0.2517183790213059 and parameters: {'n_estimators': 216, 'learning_rate': 0.20059030507955658, 'num_leaves': 209, 'max_depth': 14, 'min_child_samples': 45, 'subsample': 0.6148656769365758, 'colsample_bytree': 0.8464318845424161, 'reg_alpha': 6.169848617324222e-07, 'reg_lambda': 0.006887355306308726}. Best is trial 6 with value: 0.2517183790213059.\n",
      "[I 2025-05-26 21:19:47,854] Trial 7 finished with value: 0.2570370372077008 and parameters: {'n_estimators': 1438, 'learning_rate': 0.2251359567806726, 'num_leaves': 20, 'max_depth': 5, 'min_child_samples': 36, 'subsample': 0.8554461653821401, 'colsample_bytree': 0.9331759989420119, 'reg_alpha': 7.95386784636949e-07, 'reg_lambda': 0.0002318588382311041}. Best is trial 6 with value: 0.2517183790213059.\n",
      "[I 2025-05-26 21:20:22,733] Trial 8 finished with value: 0.25062710688211925 and parameters: {'n_estimators': 1056, 'learning_rate': 0.1293909941185546, 'num_leaves': 183, 'max_depth': 13, 'min_child_samples': 55, 'subsample': 0.9348179853276922, 'colsample_bytree': 0.9666020908672889, 'reg_alpha': 5.029802337283796e-05, 'reg_lambda': 0.0022008511510174665}. Best is trial 8 with value: 0.25062710688211925.\n",
      "[I 2025-05-26 21:20:29,727] Trial 9 finished with value: 0.27742422736856476 and parameters: {'n_estimators': 419, 'learning_rate': 0.04761561739390164, 'num_leaves': 179, 'max_depth': 6, 'min_child_samples': 39, 'subsample': 0.9564044233854077, 'colsample_bytree': 0.6127106824917076, 'reg_alpha': 7.010724032410492e-08, 'reg_lambda': 3.40816582514304e-06}. Best is trial 8 with value: 0.25062710688211925.\n",
      "[I 2025-05-26 21:21:07,629] Trial 10 finished with value: 0.2543999355945323 and parameters: {'n_estimators': 931, 'learning_rate': 0.021749382821607835, 'num_leaves': 296, 'max_depth': 15, 'min_child_samples': 7, 'subsample': 0.8981072152796747, 'colsample_bytree': 0.7626859084030748, 'reg_alpha': 0.0172902488654459, 'reg_lambda': 0.2779336536499443}. Best is trial 8 with value: 0.25062710688211925.\n",
      "[I 2025-05-26 21:21:27,776] Trial 11 finished with value: 0.24978195988263655 and parameters: {'n_estimators': 672, 'learning_rate': 0.14790660900905164, 'num_leaves': 131, 'max_depth': 15, 'min_child_samples': 68, 'subsample': 0.7050429649096434, 'colsample_bytree': 0.8355124849479942, 'reg_alpha': 0.0004321009828043704, 'reg_lambda': 0.02313696327221692}. Best is trial 11 with value: 0.24978195988263655.\n",
      "[I 2025-05-26 21:21:47,138] Trial 12 finished with value: 0.24993830432652606 and parameters: {'n_estimators': 707, 'learning_rate': 0.13885282496926324, 'num_leaves': 130, 'max_depth': 13, 'min_child_samples': 73, 'subsample': 0.7017337960388813, 'colsample_bytree': 0.7702950314558243, 'reg_alpha': 0.0008094305566656588, 'reg_lambda': 0.02649957612591969}. Best is trial 11 with value: 0.24978195988263655.\n",
      "[I 2025-05-26 21:22:10,333] Trial 13 finished with value: 0.24992117736589148 and parameters: {'n_estimators': 707, 'learning_rate': 0.16473306258227205, 'num_leaves': 122, 'max_depth': 15, 'min_child_samples': 73, 'subsample': 0.7043332215355002, 'colsample_bytree': 0.7510860261596913, 'reg_alpha': 0.002070938124389767, 'reg_lambda': 0.037008135999054885}. Best is trial 11 with value: 0.24978195988263655.\n",
      "[I 2025-05-26 21:22:32,732] Trial 14 finished with value: 0.24963946242193186 and parameters: {'n_estimators': 713, 'learning_rate': 0.1758773478724209, 'num_leaves': 125, 'max_depth': 15, 'min_child_samples': 77, 'subsample': 0.7224526659260683, 'colsample_bytree': 0.7221613978654878, 'reg_alpha': 0.0024341527258811527, 'reg_lambda': 2.4033430714155655e-05}. Best is trial 14 with value: 0.24963946242193186.\n",
      "[I 2025-05-26 21:22:45,070] Trial 15 finished with value: 0.2575307827766027 and parameters: {'n_estimators': 488, 'learning_rate': 0.07879159717267613, 'num_leaves': 141, 'max_depth': 10, 'min_child_samples': 99, 'subsample': 0.8043423387895481, 'colsample_bytree': 0.7147288044553434, 'reg_alpha': 0.03609932155153546, 'reg_lambda': 1.0868365550161843e-05}. Best is trial 14 with value: 0.24963946242193186.\n",
      "[I 2025-05-26 21:23:00,961] Trial 16 finished with value: 0.25323974936464416 and parameters: {'n_estimators': 723, 'learning_rate': 0.16191916929769887, 'num_leaves': 100, 'max_depth': 9, 'min_child_samples': 82, 'subsample': 0.7179606294817987, 'colsample_bytree': 0.8253116538143247, 'reg_alpha': 0.0010798567487065064, 'reg_lambda': 1.5399709444276315e-05}. Best is trial 14 with value: 0.24963946242193186.\n",
      "[I 2025-05-26 21:23:24,053] Trial 17 finished with value: 0.25103091780958076 and parameters: {'n_estimators': 836, 'learning_rate': 0.26578036890960666, 'num_leaves': 53, 'max_depth': 14, 'min_child_samples': 63, 'subsample': 0.8077754918595136, 'colsample_bytree': 0.7007482082067285, 'reg_alpha': 2.5557447771257822e-05, 'reg_lambda': 3.5647771320017886e-07}. Best is trial 14 with value: 0.24963946242193186.\n",
      "[I 2025-05-26 21:23:41,226] Trial 18 finished with value: 0.25009359362251893 and parameters: {'n_estimators': 569, 'learning_rate': 0.24959514401490285, 'num_leaves': 102, 'max_depth': 15, 'min_child_samples': 78, 'subsample': 0.7517286623762277, 'colsample_bytree': 0.886994979911184, 'reg_alpha': 0.98981392725139, 'reg_lambda': 8.179853209158706e-05}. Best is trial 14 with value: 0.24963946242193186.\n",
      "[I 2025-05-26 21:23:49,039] Trial 19 finished with value: 0.25261164720149126 and parameters: {'n_estimators': 265, 'learning_rate': 0.17550032947225264, 'num_leaves': 150, 'max_depth': 13, 'min_child_samples': 63, 'subsample': 0.6690769019335543, 'colsample_bytree': 0.7905197039880082, 'reg_alpha': 0.010828177099581926, 'reg_lambda': 1.008951220193649e-06}. Best is trial 14 with value: 0.24963946242193186.\n",
      "[I 2025-05-26 21:24:22,631] Trial 20 finished with value: 0.25038201112200326 and parameters: {'n_estimators': 1140, 'learning_rate': 0.08287156855313775, 'num_leaves': 260, 'max_depth': 12, 'min_child_samples': 84, 'subsample': 0.6042279400748266, 'colsample_bytree': 0.8372907192947938, 'reg_alpha': 0.0004274741366077535, 'reg_lambda': 2.4353729448189754e-05}. Best is trial 14 with value: 0.24963946242193186.\n",
      "[I 2025-05-26 21:24:44,160] Trial 21 finished with value: 0.24904256937846003 and parameters: {'n_estimators': 730, 'learning_rate': 0.17687323710812894, 'num_leaves': 121, 'max_depth': 15, 'min_child_samples': 75, 'subsample': 0.7062289880754531, 'colsample_bytree': 0.7360278477260626, 'reg_alpha': 0.004903904137129605, 'reg_lambda': 0.07976457464146991}. Best is trial 21 with value: 0.24904256937846003.\n",
      "[I 2025-05-26 21:25:07,290] Trial 22 finished with value: 0.2504445105717317 and parameters: {'n_estimators': 809, 'learning_rate': 0.18133152681868228, 'num_leaves': 106, 'max_depth': 14, 'min_child_samples': 100, 'subsample': 0.739518162161078, 'colsample_bytree': 0.7256314478441502, 'reg_alpha': 0.0045670089624041815, 'reg_lambda': 0.061797340426272246}. Best is trial 21 with value: 0.24904256937846003.\n",
      "[I 2025-05-26 21:25:24,167] Trial 23 finished with value: 0.2517270245721501 and parameters: {'n_estimators': 626, 'learning_rate': 0.13843322600704375, 'num_leaves': 167, 'max_depth': 15, 'min_child_samples': 75, 'subsample': 0.679600226977189, 'colsample_bytree': 0.6752242482226848, 'reg_alpha': 0.11373569153291842, 'reg_lambda': 0.010119440291274451}. Best is trial 21 with value: 0.24904256937846003.\n",
      "[I 2025-05-26 21:25:50,917] Trial 24 finished with value: 0.2504474337248628 and parameters: {'n_estimators': 943, 'learning_rate': 0.23518873310416638, 'num_leaves': 150, 'max_depth': 12, 'min_child_samples': 65, 'subsample': 0.776848368726128, 'colsample_bytree': 0.793350850061743, 'reg_alpha': 0.0001684936797585731, 'reg_lambda': 0.7612709365952584}. Best is trial 21 with value: 0.24904256937846003.\n",
      "[I 2025-05-26 21:26:05,927] Trial 25 finished with value: 0.25122885063163697 and parameters: {'n_estimators': 510, 'learning_rate': 0.1835082778071599, 'num_leaves': 86, 'max_depth': 14, 'min_child_samples': 92, 'subsample': 0.8241505063711894, 'colsample_bytree': 0.877912201593957, 'reg_alpha': 1.3746189128296261e-05, 'reg_lambda': 0.00015017455351541657}. Best is trial 21 with value: 0.24904256937846003.\n",
      "[I 2025-05-26 21:26:26,530] Trial 26 finished with value: 0.2495397364907997 and parameters: {'n_estimators': 757, 'learning_rate': 0.14667052215487317, 'num_leaves': 124, 'max_depth': 13, 'min_child_samples': 57, 'subsample': 0.7219764819228377, 'colsample_bytree': 0.7430154381712049, 'reg_alpha': 0.0488640408353555, 'reg_lambda': 0.7942531540198579}. Best is trial 21 with value: 0.24904256937846003.\n",
      "[I 2025-05-26 21:26:45,741] Trial 27 finished with value: 0.2521057378126067 and parameters: {'n_estimators': 813, 'learning_rate': 0.10886558528672355, 'num_leaves': 41, 'max_depth': 13, 'min_child_samples': 28, 'subsample': 0.6442800396904115, 'colsample_bytree': 0.7368479363296256, 'reg_alpha': 0.04566089231512157, 'reg_lambda': 0.5333155001082416}. Best is trial 21 with value: 0.24904256937846003.\n",
      "[I 2025-05-26 21:27:11,656] Trial 28 finished with value: 0.2522794925003499 and parameters: {'n_estimators': 1038, 'learning_rate': 0.19278456404017283, 'num_leaves': 116, 'max_depth': 11, 'min_child_samples': 52, 'subsample': 0.7238682559103268, 'colsample_bytree': 0.6721017815734133, 'reg_alpha': 0.005204246675985922, 'reg_lambda': 0.14985732193171905}. Best is trial 21 with value: 0.24904256937846003.\n",
      "[I 2025-05-26 21:27:37,082] Trial 29 finished with value: 0.2539113559547622 and parameters: {'n_estimators': 1204, 'learning_rate': 0.15705537676123776, 'num_leaves': 165, 'max_depth': 9, 'min_child_samples': 46, 'subsample': 0.771105809611298, 'colsample_bytree': 0.6904798200786761, 'reg_alpha': 0.08452993185648691, 'reg_lambda': 0.1159201883103558}. Best is trial 21 with value: 0.24904256937846003.\n",
      "[I 2025-05-26 21:27:46,482] Trial 30 finished with value: 0.2512739133941493 and parameters: {'n_estimators': 339, 'learning_rate': 0.2238369590049812, 'num_leaves': 85, 'max_depth': 14, 'min_child_samples': 59, 'subsample': 0.682411447360853, 'colsample_bytree': 0.7473187874703553, 'reg_alpha': 0.0001503325334283202, 'reg_lambda': 2.7292744570981413e-06}. Best is trial 21 with value: 0.24904256937846003.\n",
      "[I 2025-05-26 21:28:08,335] Trial 31 finished with value: 0.24911414914883703 and parameters: {'n_estimators': 728, 'learning_rate': 0.14114041836278393, 'num_leaves': 117, 'max_depth': 15, 'min_child_samples': 71, 'subsample': 0.7274255695777625, 'colsample_bytree': 0.811451652587273, 'reg_alpha': 0.003917361476364916, 'reg_lambda': 0.8449700908495432}. Best is trial 21 with value: 0.24904256937846003.\n",
      "[I 2025-05-26 21:28:31,151] Trial 32 finished with value: 0.24919096549154957 and parameters: {'n_estimators': 776, 'learning_rate': 0.12101555567772296, 'num_leaves': 114, 'max_depth': 15, 'min_child_samples': 80, 'subsample': 0.6366569183556721, 'colsample_bytree': 0.7798527623130304, 'reg_alpha': 0.0042600625320960974, 'reg_lambda': 0.8536576607685681}. Best is trial 21 with value: 0.24904256937846003.\n",
      "[I 2025-05-26 21:28:55,566] Trial 33 finished with value: 0.24982708175377702 and parameters: {'n_estimators': 897, 'learning_rate': 0.12131545048408246, 'num_leaves': 88, 'max_depth': 13, 'min_child_samples': 70, 'subsample': 0.642262787702634, 'colsample_bytree': 0.8091969213577834, 'reg_alpha': 0.009415213923561549, 'reg_lambda': 0.9126199318776478}. Best is trial 21 with value: 0.24904256937846003.\n",
      "[I 2025-05-26 21:29:15,299] Trial 34 finished with value: 0.25059057157155507 and parameters: {'n_estimators': 762, 'learning_rate': 0.11126983016856615, 'num_leaves': 61, 'max_depth': 14, 'min_child_samples': 83, 'subsample': 0.6195188969193941, 'colsample_bytree': 0.7921251220426484, 'reg_alpha': 0.20479269107155126, 'reg_lambda': 0.25612880082674283}. Best is trial 21 with value: 0.24904256937846003.\n",
      "[I 2025-05-26 21:29:36,270] Trial 35 finished with value: 0.2511180369058493 and parameters: {'n_estimators': 622, 'learning_rate': 0.09018321136916652, 'num_leaves': 111, 'max_depth': 15, 'min_child_samples': 51, 'subsample': 0.6572868849839406, 'colsample_bytree': 0.9969532792157619, 'reg_alpha': 0.024851849858032092, 'reg_lambda': 0.10180352952307709}. Best is trial 21 with value: 0.24904256937846003.\n",
      "[I 2025-05-26 21:29:49,976] Trial 36 finished with value: 0.2509194595019135 and parameters: {'n_estimators': 553, 'learning_rate': 0.1480191085101003, 'num_leaves': 148, 'max_depth': 12, 'min_child_samples': 60, 'subsample': 0.7823494522499694, 'colsample_bytree': 0.7745192251802531, 'reg_alpha': 0.6943072954025838, 'reg_lambda': 0.9996176561573319}. Best is trial 21 with value: 0.24904256937846003.\n",
      "[I 2025-05-26 21:30:12,528] Trial 37 finished with value: 0.2514617661717333 and parameters: {'n_estimators': 991, 'learning_rate': 0.20932697493771207, 'num_leaves': 69, 'max_depth': 11, 'min_child_samples': 88, 'subsample': 0.681236023203978, 'colsample_bytree': 0.8679212245289127, 'reg_alpha': 0.0035089930807882565, 'reg_lambda': 1.2271955360638193e-08}. Best is trial 21 with value: 0.24904256937846003.\n",
      "[I 2025-05-26 21:30:26,565] Trial 38 finished with value: 0.2603530655084713 and parameters: {'n_estimators': 766, 'learning_rate': 0.06579846878592942, 'num_leaves': 224, 'max_depth': 7, 'min_child_samples': 68, 'subsample': 0.6350185195380609, 'colsample_bytree': 0.8149057755399056, 'reg_alpha': 0.24118237903714723, 'reg_lambda': 0.3410371512397476}. Best is trial 21 with value: 0.24904256937846003.\n",
      "[I 2025-05-26 21:30:38,051] Trial 39 finished with value: 0.26801232705062156 and parameters: {'n_estimators': 874, 'learning_rate': 0.10403111308785637, 'num_leaves': 97, 'max_depth': 4, 'min_child_samples': 79, 'subsample': 0.7431567026108188, 'colsample_bytree': 0.6522340594807204, 'reg_alpha': 0.06389722479653354, 'reg_lambda': 0.005108686122356686}. Best is trial 21 with value: 0.24904256937846003.\n",
      "[I 2025-05-26 21:30:47,086] Trial 40 finished with value: 0.2566338291738841 and parameters: {'n_estimators': 447, 'learning_rate': 0.1280025309153294, 'num_leaves': 39, 'max_depth': 10, 'min_child_samples': 89, 'subsample': 0.834685685830361, 'colsample_bytree': 0.7754094396299819, 'reg_alpha': 0.01077762378249435, 'reg_lambda': 0.013573320869012626}. Best is trial 21 with value: 0.24904256937846003.\n",
      "[I 2025-05-26 21:31:04,967] Trial 41 finished with value: 0.249457438918346 and parameters: {'n_estimators': 651, 'learning_rate': 0.17309119421871424, 'num_leaves': 134, 'max_depth': 15, 'min_child_samples': 78, 'subsample': 0.7255386099053494, 'colsample_bytree': 0.7164724370776878, 'reg_alpha': 0.0016165677966663533, 'reg_lambda': 0.0003803839628575738}. Best is trial 21 with value: 0.24904256937846003.\n",
      "[I 2025-05-26 21:31:22,378] Trial 42 finished with value: 0.25009793399989444 and parameters: {'n_estimators': 653, 'learning_rate': 0.1976284141159647, 'num_leaves': 137, 'max_depth': 14, 'min_child_samples': 71, 'subsample': 0.699398748418604, 'colsample_bytree': 0.7481240267515971, 'reg_alpha': 0.001018315730924097, 'reg_lambda': 0.0007712989536474919}. Best is trial 21 with value: 0.24904256937846003.\n",
      "[I 2025-05-26 21:31:43,725] Trial 43 finished with value: 0.2498184163593406 and parameters: {'n_estimators': 767, 'learning_rate': 0.16569425125030127, 'num_leaves': 118, 'max_depth': 15, 'min_child_samples': 94, 'subsample': 0.7344479987171598, 'colsample_bytree': 0.7083324522286556, 'reg_alpha': 0.00031774446610555743, 'reg_lambda': 0.061164794533291364}. Best is trial 21 with value: 0.24904256937846003.\n",
      "[I 2025-05-26 21:31:59,332] Trial 44 finished with value: 0.25042091253830984 and parameters: {'n_estimators': 594, 'learning_rate': 0.1360740276030281, 'num_leaves': 172, 'max_depth': 13, 'min_child_samples': 81, 'subsample': 0.7616790988430229, 'colsample_bytree': 0.8612517287024375, 'reg_alpha': 0.0016355489071066497, 'reg_lambda': 0.0025078768283798925}. Best is trial 21 with value: 0.24904256937846003.\n",
      "[I 2025-05-26 21:32:24,142] Trial 45 finished with value: 0.2495524434870853 and parameters: {'n_estimators': 866, 'learning_rate': 0.14990426666645448, 'num_leaves': 159, 'max_depth': 14, 'min_child_samples': 55, 'subsample': 0.6608143743130881, 'colsample_bytree': 0.7350386380625129, 'reg_alpha': 0.019045004500729625, 'reg_lambda': 0.331331168574379}. Best is trial 21 with value: 0.24904256937846003.\n",
      "[I 2025-05-26 21:32:46,727] Trial 46 finished with value: 0.2494753456889721 and parameters: {'n_estimators': 775, 'learning_rate': 0.20921528502836761, 'num_leaves': 203, 'max_depth': 15, 'min_child_samples': 66, 'subsample': 0.6941001380757166, 'colsample_bytree': 0.761957872911609, 'reg_alpha': 6.136173025703096e-05, 'reg_lambda': 0.18944122601400612}. Best is trial 21 with value: 0.24904256937846003.\n",
      "[I 2025-05-26 21:33:07,552] Trial 47 finished with value: 0.25078865680972084 and parameters: {'n_estimators': 666, 'learning_rate': 0.21418194332933876, 'num_leaves': 204, 'max_depth': 15, 'min_child_samples': 86, 'subsample': 0.6258422190213474, 'colsample_bytree': 0.90771500381911, 'reg_alpha': 5.96538893860199e-06, 'reg_lambda': 0.05887256210986421}. Best is trial 21 with value: 0.24904256937846003.\n",
      "[I 2025-05-26 21:33:22,286] Trial 48 finished with value: 0.2496989105259666 and parameters: {'n_estimators': 529, 'learning_rate': 0.24297171662740052, 'num_leaves': 247, 'max_depth': 15, 'min_child_samples': 75, 'subsample': 0.9889804244587224, 'colsample_bytree': 0.7653170675597508, 'reg_alpha': 6.702495827608254e-05, 'reg_lambda': 0.16159833118752134}. Best is trial 21 with value: 0.24904256937846003.\n",
      "[I 2025-05-26 21:33:34,595] Trial 49 finished with value: 0.2657211920733006 and parameters: {'n_estimators': 979, 'learning_rate': 0.26819140377866946, 'num_leaves': 185, 'max_depth': 3, 'min_child_samples': 66, 'subsample': 0.6859143068602482, 'colsample_bytree': 0.6476585391340115, 'reg_alpha': 3.040195810399003e-05, 'reg_lambda': 0.017868047390263035}. Best is trial 21 with value: 0.24904256937846003.\n"
     ]
    },
    {
     "name": "stdout",
     "output_type": "stream",
     "text": [
      "\n",
      "Optuna study for LOW-PRICE model finished.\n",
      "\n",
      "--- Final LOW-PRICE Model Performance on Test Set ---\n",
      "MAE: 36976.2899\n",
      "RMSE: 48818.3446\n",
      "MAPE: 0.2490\n",
      "R2 Score: 0.4762\n",
      "-----------------------------------------------------\n",
      "\n",
      "Final LOW-PRICE model trained, evaluated, and saved as 'tuned_lgbm_model_below_300k.pkl'\n"
     ]
    }
   ],
   "source": [
    "df_low = df[df['price'] < 300000].copy()\n",
    "X_low = df_low[['bed', 'bath', 'house_size', 'city', 'state']]\n",
    "y_low = df_low['price']\n",
    "X_train_low, X_test_low, y_train_low, y_test_low = train_test_split(X_low, y_low, test_size = 0.2, random_state = 42)\n",
    "# --- 1. Define the Objective Function ---\n",
    "def objective(trial):\n",
    "    params = {\n",
    "        'objective': 'regression_l1', 'metric': 'mape', 'boosting_type': 'gbdt',\n",
    "        'n_estimators': trial.suggest_int('n_estimators', 200, 1500),\n",
    "        'learning_rate': trial.suggest_float('learning_rate', 0.01, 0.3),\n",
    "        'num_leaves': trial.suggest_int('num_leaves', 20, 300),\n",
    "        'max_depth': trial.suggest_int('max_depth', 3, 15),\n",
    "        'min_child_samples': trial.suggest_int('min_child_samples', 5, 100),\n",
    "        'subsample': trial.suggest_float('subsample', 0.6, 1.0),\n",
    "        'colsample_bytree': trial.suggest_float('colsample_bytree', 0.6, 1.0),\n",
    "        'reg_alpha': trial.suggest_float('reg_alpha', 1e-8, 1.0, log=True),\n",
    "        'reg_lambda': trial.suggest_float('reg_lambda', 1e-8, 1.0, log=True),\n",
    "        'random_state': 42, 'verbose': -1, 'n_jobs': -1\n",
    "    }\n",
    "    \n",
    "    model = lgb.LGBMRegressor(**params)\n",
    "    \n",
    "    # IMPORTANT: Use the new _low datasets for fitting\n",
    "    model.fit(\n",
    "        X_train_low, y_train_low,\n",
    "        eval_set=[(X_test_low, y_test_low)],\n",
    "        eval_metric='mape',\n",
    "        callbacks=[lgb.early_stopping(stopping_rounds=100, verbose=False)]\n",
    "    )\n",
    "    \n",
    "    # IMPORTANT: Use the new _low test set for evaluation\n",
    "    preds = model.predict(X_test_low)\n",
    "    mape = mean_absolute_percentage_error(y_test_low, preds)\n",
    "    \n",
    "    return mape\n",
    "\n",
    "# --- 2. Run the Optuna Study ---\n",
    "study_low = optuna.create_study(direction='minimize')\n",
    "study_low.optimize(objective, n_trials=50)\n",
    "\n",
    "# --- 3. Get Best Results, Evaluate, and Save the Final Model ---\n",
    "print(\"\\nOptuna study for LOW-PRICE model finished.\")\n",
    "best_trial_low = study_low.best_trial\n",
    "best_params_low = best_trial_low.params\n",
    "# Add fixed params\n",
    "best_params_low.update({'objective': 'regression_l1', 'metric': 'mape', 'random_state': 42, 'verbose': -1, 'n_jobs': -1})\n",
    "\n",
    "final_model_low = lgb.LGBMRegressor(**best_params_low)\n",
    "final_model_low.fit(X_train_low, y_train_low)\n",
    "\n",
    "# Evaluate the final model for the low-price segment\n",
    "preds_low = final_model_low.predict(X_test_low)\n",
    "mae_low = mean_absolute_error(y_test_low, preds_low)\n",
    "rmse_low = np.sqrt(mean_squared_error(y_test_low, preds_low))\n",
    "mape_low = mean_absolute_percentage_error(y_test_low, preds_low)\n",
    "r2_low = r2_score(y_test_low, preds_low)\n",
    "\n",
    "print(\"\\n--- Final LOW-PRICE Model Performance on Test Set ---\")\n",
    "print(f\"MAE: {mae_low:.4f}\")\n",
    "print(f\"RMSE: {rmse_low:.4f}\")\n",
    "print(f\"MAPE: {mape_low:.4f}\")\n",
    "print(f\"R2 Score: {r2_low:.4f}\")\n",
    "print(\"-----------------------------------------------------\")\n",
    "\n",
    "# # IMPORTANT: Save the model with a new, descriptive name\n",
    "# with open('tuned_lgbm_model_below_300k.pkl', 'wb') as f:\n",
    "#     pickle.dump(final_model_low, f)\n",
    "joblib.dump(final_model_low, 'tuned_lgbm_model_below_300k.pkl', compress=True)\n",
    "\n",
    "print(\"\\nFinal LOW-PRICE model trained, evaluated, and saved as 'tuned_lgbm_model_below_300k.pkl'\")\n"
   ]
  },
  {
   "cell_type": "markdown",
   "id": "a28c7b92",
   "metadata": {},
   "source": [
    "Implementing a two-model strategy proved highly effective. A dedicated model for the sub-$300k housing segment successfully decreased its prediction error (MAPE) from 35% to 24.9%."
   ]
  }
 ],
 "metadata": {
  "kernelspec": {
   "display_name": "venv",
   "language": "python",
   "name": "python3"
  },
  "language_info": {
   "codemirror_mode": {
    "name": "ipython",
    "version": 3
   },
   "file_extension": ".py",
   "mimetype": "text/x-python",
   "name": "python",
   "nbconvert_exporter": "python",
   "pygments_lexer": "ipython3",
   "version": "3.13.1"
  }
 },
 "nbformat": 4,
 "nbformat_minor": 5
}
