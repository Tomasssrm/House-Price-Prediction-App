{
 "cells": [
  {
   "cell_type": "code",
   "execution_count": null,
   "id": "8a119ec2",
   "metadata": {},
   "outputs": [],
   "source": [
    "import pandas as pd\n",
    "import numpy as np\n",
    "from sklearn.model_selection import train_test_split\n",
    "from sklearn.metrics import mean_squared_error, r2_score, mean_absolute_error, mean_absolute_percentage_error\n",
    "import matplotlib.pyplot as plt\n",
    "import seaborn as sns\n",
    "from sklearn.preprocessing import LabelEncoder\n",
    "import lightgbm as lgb\n",
    "from lightgbm import LGBMRegressor\n",
    "import joblib\n",
    "import pickle\n",
    "import optuna"
   ]
  },
  {
   "cell_type": "code",
   "execution_count": 3,
   "id": "be9e61a4",
   "metadata": {},
   "outputs": [],
   "source": [
    "df = pd.read_csv('../Data/Real_Estate_Model.csv')"
   ]
  },
  {
   "cell_type": "code",
   "execution_count": 4,
   "id": "b6fd0a8e",
   "metadata": {},
   "outputs": [],
   "source": [
    "df['state'] = df['state'].astype('category')\n",
    "df['city'] = df['city'].astype('category')"
   ]
  },
  {
   "cell_type": "code",
   "execution_count": null,
   "id": "5ac06d40",
   "metadata": {},
   "outputs": [],
   "source": [
    "df.dtypes"
   ]
  },
  {
   "cell_type": "code",
   "execution_count": null,
   "id": "473a7577",
   "metadata": {},
   "outputs": [],
   "source": [
    "categorical_features = ['state', 'city']\n",
    "X = df[['bed', 'bath', 'state', 'city', 'house_size']]\n",
    "y = df['price']\n",
    "\n",
    "X_train, X_test, y_train, y_test = train_test_split(X, y, test_size=0.2, random_state=42)\n",
    "\n",
    "base_model = LGBMRegressor(\n",
    "    objective='regression_l1',\n",
    "    boosting_type='gbdt',\n",
    "    learning_rate=0.05,\n",
    "    verbose=1,\n",
    "    random_state=42,\n",
    "    eval_metric='mape',\n",
    "    categorical_features=categorical_features, \n",
    ")\n",
    "\n",
    "base_model.fit(\n",
    "    X_train, y_train,\n",
    "    eval_set=[(X_test, y_test)],\n",
    "    )\n",
    "\n",
    "base_predictions = base_model.predict(X_test)\n",
    "\n",
    "base_mape = mean_absolute_percentage_error(y_test, base_predictions)\n",
    "\n",
    "print(base_mape)\n"
   ]
  },
  {
   "cell_type": "code",
   "execution_count": null,
   "id": "cc9bca96",
   "metadata": {},
   "outputs": [],
   "source": [
    "def objective(trial):\n",
    "    \"\"\"This function is what Optuna will try to minimize.\"\"\"\n",
    "    params = {\n",
    "        'objective': 'regression_l1',\n",
    "        'metric': 'mape',\n",
    "        'boosting_type': 'gbdt',\n",
    "        'n_estimators': trial.suggest_int('n_estimators', 200, 2500),\n",
    "        'learning_rate': trial.suggest_float('learning_rate', 0.01, 0.3),\n",
    "        'num_leaves': trial.suggest_int('num_leaves', 20, 300),\n",
    "        'max_depth': trial.suggest_int('max_depth', 3, 15),\n",
    "        'min_child_samples': trial.suggest_int('min_child_samples', 5, 100),\n",
    "        'subsample': trial.suggest_float('subsample', 0.6, 1.0),\n",
    "        'colsample_bytree': trial.suggest_float('colsample_bytree', 0.6, 1.0),\n",
    "        'reg_alpha': trial.suggest_float('reg_alpha', 1e-8, 1.0, log=True), # L1 regularization\n",
    "        'reg_lambda': trial.suggest_float('reg_lambda', 1e-8, 1.0, log=True), # L2 regularization\n",
    "        'random_state': 42,\n",
    "        'verbose': -1,\n",
    "        'n_jobs': -1 \n",
    "    }\n",
    "    #Create the model\n",
    "    model = LGBMRegressor(**params)\n",
    "    #Train the model\n",
    "    model.fit(\n",
    "        X_train, y_train,\n",
    "        eval_set=[(X_test, y_test)],\n",
    "        eval_metric='mape',\n",
    "        callbacks=[lgb.early_stopping(stopping_rounds=100, verbose=False)]\n",
    "    )\n",
    "\n",
    "    #Evaluation of the model\n",
    "    preds = model.predict(X_test)\n",
    "    mape = mean_absolute_percentage_error(y_test, preds)\n",
    "\n",
    "    return mape\n",
    "\n",
    "#Objective is to minimize MAPE\n",
    "study = optuna.create_study(direction='minimize')\n",
    "study.optimize(objective, n_trials=100)\n",
    "\n",
    "\n",
    "#Results\n",
    "print(\"\\nOptuna study finished.\")\n",
    "print(\"Best trial:\")\n",
    "best_trial = study.best_trial\n",
    "\n",
    "print(f\"  Value (Best MAPE during tuning): {best_trial.value:.4f}\")\n",
    "print(\"  Best Params: \")\n",
    "for key, value in best_trial.params.items():\n",
    "    print(f\"    {key}: {value}\")\n",
    "\n",
    "#Best parameters from the study\n",
    "best_params = best_trial.params\n",
    "\n",
    "#Add back the fixed parameters needed for the final model\n",
    "best_params['objective'] = 'regression_l1'\n",
    "best_params['metric'] = 'mape'\n",
    "best_params['boosting_type'] = 'gbdt'\n",
    "best_params['random_state'] = 42\n",
    "best_params['verbose'] = -1\n",
    "best_params['n_jobs'] = -1\n",
    "\n",
    "#Train the final model with the best parameters\n",
    "best_model = lgb.LGBMRegressor(**best_params)\n",
    "best_model.fit(X_train, y_train)\n",
    "best_pred = best_model.predict(X_test)\n",
    "\n",
    "#Calculate all performance metrics\n",
    "mae_best = mean_absolute_error(y_test, best_pred)\n",
    "rmse_best = np.sqrt(mean_squared_error(y_test, best_pred))\n",
    "mape_best = mean_absolute_percentage_error(y_test, best_pred) \n",
    "r2_best = r2_score(y_test, best_pred)\n",
    "\n",
    "print(\"\\n--- Final Best Model Performance on Test Set ---\")\n",
    "print(f\"MAE: {mae_best:.4f}\")\n",
    "print(f\"RMSE: {rmse_best:.4f}\")\n",
    "print(f\"MAPE: {mape_best:.4f}\") \n",
    "print(f\"R2 Score: {r2_best:.4f}\")\n",
    "print(\"------------------------------------------------\")\n",
    "\n",
    "joblib.dump(best_model, 'tuned_lgbm_model.pkl', compress = True)\n",
    "\n",
    "print(\"\\nFinal model trained, evaluated, and saved as 'tuned_lgbm_model.pkl'\")\n"
   ]
  },
  {
   "cell_type": "markdown",
   "id": "17704d34",
   "metadata": {},
   "source": [
    "Performance by price segment"
   ]
  },
  {
   "cell_type": "code",
   "execution_count": 8,
   "id": "92f5500e",
   "metadata": {},
   "outputs": [
    {
     "name": "stdout",
     "output_type": "stream",
     "text": [
      "segment\n",
      "<300k        35.216622\n",
      "300k-400k    15.646312\n",
      "400k-500k    15.309972\n",
      "500k-1M      16.850587\n",
      "1M+                NaN\n",
      "Name: pct_error, dtype: float64\n"
     ]
    },
    {
     "name": "stderr",
     "output_type": "stream",
     "text": [
      "C:\\Users\\tomas\\AppData\\Local\\Temp\\ipykernel_36516\\3658000176.py:8: FutureWarning: The default of observed=False is deprecated and will be changed to True in a future version of pandas. Pass observed=False to retain current behavior or observed=True to adopt the future default and silence this warning.\n",
      "  mape_by_segment = segment_df.groupby('segment')['pct_error'].mean()\n"
     ]
    }
   ],
   "source": [
    "bins = [0, 300_000, 400_000, 500_000, 1_000_000, float('inf')]\n",
    "labels = ['<300k', '300k-400k', '400k-500k', '500k-1M', '1M+']\n",
    "\n",
    "price_segments = pd.cut(y_test, bins=bins, labels=labels)\n",
    "segment_df = pd.DataFrame({'actual': y_test, 'pred': best_pred, 'segment': price_segments})\n",
    "segment_df['pct_error'] = np.abs(segment_df['actual'] - segment_df['pred']) / segment_df['actual'] * 100\n",
    "\n",
    "mape_by_segment = segment_df.groupby('segment')['pct_error'].mean()\n",
    "print(mape_by_segment)"
   ]
  },
  {
   "cell_type": "code",
   "execution_count": 8,
   "id": "bab3005e",
   "metadata": {},
   "outputs": [
    {
     "data": {
      "image/png": "[encoded data removed]",
      "text/plain": [
       "<Figure size 1000x600 with 1 Axes>"
      ]
     },
     "metadata": {},
     "output_type": "display_data"
    }
   ],
   "source": [
    "best_feature_importance = best_model.feature_importances_\n",
    "features = X.columns\n",
    "plt.figure(figsize=(10, 6))\n",
    "plt.barh(features, best_feature_importance)\n",
    "plt.xlabel('Feature Importance')\n",
    "plt.ylabel('Feature')\n",
    "plt.title('Feature Importance of the Best Model')\n",
    "plt.show()"
   ]
  },
  {
   "cell_type": "markdown",
   "id": "e37c9854",
   "metadata": {},
   "source": [
    "Low model"
   ]
  },
  {
   "cell_type": "code",
   "execution_count": null,
   "id": "ac4a501b",
   "metadata": {},
   "outputs": [],
   "source": [
    "df_low = df[df['price'] < 300000].copy()\n",
    "X_low = df_low[['bed', 'bath', 'house_size', 'city', 'state']]\n",
    "y_low = df_low['price']\n",
    "X_train_low, X_test_low, y_train_low, y_test_low = train_test_split(X_low, y_low, test_size = 0.2, random_state = 42)\n",
    "\n",
    "def objective(trial):\n",
    "    params = {\n",
    "        'objective': 'regression_l1', 'metric': 'mape', 'boosting_type': 'gbdt',\n",
    "        'n_estimators': trial.suggest_int('n_estimators', 200, 1500),\n",
    "        'learning_rate': trial.suggest_float('learning_rate', 0.01, 0.3),\n",
    "        'num_leaves': trial.suggest_int('num_leaves', 20, 300),\n",
    "        'max_depth': trial.suggest_int('max_depth', 3, 15),\n",
    "        'min_child_samples': trial.suggest_int('min_child_samples', 5, 100),\n",
    "        'subsample': trial.suggest_float('subsample', 0.6, 1.0),\n",
    "        'colsample_bytree': trial.suggest_float('colsample_bytree', 0.6, 1.0),\n",
    "        'reg_alpha': trial.suggest_float('reg_alpha', 1e-8, 1.0, log=True),\n",
    "        'reg_lambda': trial.suggest_float('reg_lambda', 1e-8, 1.0, log=True),\n",
    "        'random_state': 42, 'verbose': -1, 'n_jobs': -1\n",
    "    }\n",
    "    \n",
    "    model = lgb.LGBMRegressor(**params)\n",
    "    \n",
    "    model.fit(\n",
    "        X_train_low, y_train_low,\n",
    "        eval_set=[(X_test_low, y_test_low)],\n",
    "        eval_metric='mape',\n",
    "        callbacks=[lgb.early_stopping(stopping_rounds=100, verbose=False)]\n",
    "    )\n",
    "    \n",
    "    preds = model.predict(X_test_low)\n",
    "    mape = mean_absolute_percentage_error(y_test_low, preds)\n",
    "    \n",
    "    return mape\n",
    "\n",
    "# Run Optuna\n",
    "study_low = optuna.create_study(direction='minimize')\n",
    "study_low.optimize(objective, n_trials=50)\n",
    "\n",
    "print(\"\\nOptuna study for LOW-PRICE model finished.\")\n",
    "best_trial_low = study_low.best_trial\n",
    "best_params_low = best_trial_low.params\n",
    "# Add fixed params\n",
    "best_params_low.update({'objective': 'regression_l1', 'metric': 'mape', 'random_state': 42, 'verbose': -1, 'n_jobs': -1})\n",
    "\n",
    "final_model_low = lgb.LGBMRegressor(**best_params_low)\n",
    "final_model_low.fit(X_train_low, y_train_low)\n",
    "\n",
    "# Evaluate the final model for the low-price segment\n",
    "preds_low = final_model_low.predict(X_test_low)\n",
    "mae_low = mean_absolute_error(y_test_low, preds_low)\n",
    "rmse_low = np.sqrt(mean_squared_error(y_test_low, preds_low))\n",
    "mape_low = mean_absolute_percentage_error(y_test_low, preds_low)\n",
    "r2_low = r2_score(y_test_low, preds_low)\n",
    "\n",
    "print(\"\\n--- Final LOW-PRICE Model Performance on Test Set ---\")\n",
    "print(f\"MAE: {mae_low:.4f}\")\n",
    "print(f\"RMSE: {rmse_low:.4f}\")\n",
    "print(f\"MAPE: {mape_low:.4f}\")\n",
    "print(f\"R2 Score: {r2_low:.4f}\")\n",
    "print(\"-----------------------------------------------------\")\n",
    "\n",
    "joblib.dump(final_model_low, 'tuned_lgbm_model_below_300k.pkl', compress=True)\n",
    "\n",
    "print(\"\\nFinal LOW-PRICE model trained, evaluated, and saved as 'tuned_lgbm_model_below_300k.pkl'\")\n"
   ]
  },
  {
   "cell_type": "markdown",
   "id": "a28c7b92",
   "metadata": {},
   "source": [
    "Implementing a two-model strategy proved highly effective. A dedicated model for the sub-$300k housing segment successfully decreased its prediction error (MAPE) from 35% to 24.9%."
   ]
  }
 ],
 "metadata": {
  "kernelspec": {
   "display_name": "venv",
   "language": "python",
   "name": "python3"
  },
  "language_info": {
   "codemirror_mode": {
    "name": "ipython",
    "version": 3
   },
   "file_extension": ".py",
   "mimetype": "text/x-python",
   "name": "python",
   "nbconvert_exporter": "python",
   "pygments_lexer": "ipython3",
   "version": "3.13.1"
  }
 },
 "nbformat": 4,
 "nbformat_minor": 5
}
