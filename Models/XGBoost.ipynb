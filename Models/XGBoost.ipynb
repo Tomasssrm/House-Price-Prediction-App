{
 "cells": [
  {
   "cell_type": "code",
   "execution_count": 1,
   "metadata": {},
   "outputs": [],
   "source": [
    "import pandas as pd\n",
    "import numpy as np\n",
    "from sklearn.model_selection import train_test_split\n",
    "from sklearn.metrics import mean_absolute_error, mean_squared_error, r2_score\n",
    "from sklearn.model_selection import GridSearchCV\n",
    "import xgboost as xgb\n",
    "import matplotlib.pyplot as plt\n",
    "import seaborn as sns\n",
    "from sklearn.preprocessing import OneHotEncoder\n",
    "import joblib"
   ]
  },
  {
   "cell_type": "code",
   "execution_count": null,
   "metadata": {},
   "outputs": [],
   "source": [
    "df = pd.read_csv('../Data/Real_Estate_Model.csv')\n",
    "print(df.shape)"
   ]
  },
  {
   "cell_type": "code",
   "execution_count": null,
   "metadata": {},
   "outputs": [],
   "source": [
    "df[['price', 'bath', 'house_size', 'bed', 'Price_per_sqft']].corr()"
   ]
  },
  {
   "cell_type": "markdown",
   "metadata": {},
   "source": [
    "Variable Selection and train model"
   ]
  },
  {
   "cell_type": "code",
   "execution_count": 3,
   "metadata": {},
   "outputs": [],
   "source": [
    "#change data type of city, state, and zip_code to category\n",
    "df['city'] = df['city'].astype('category')\n",
    "df['state'] = df['state'].astype('category')\n",
    "df['zip_code'] = df['zip_code'].astype('category')\n",
    "df['bed'] = df['bed'].astype(int)\n",
    "df['bath'] = df['bath'].astype(int)"
   ]
  },
  {
   "cell_type": "code",
   "execution_count": null,
   "metadata": {},
   "outputs": [],
   "source": [
    "df.dtypes"
   ]
  },
  {
   "cell_type": "markdown",
   "metadata": {},
   "source": [
    "Base Model"
   ]
  },
  {
   "cell_type": "code",
   "execution_count": null,
   "metadata": {},
   "outputs": [
    {
     "name": "stdout",
     "output_type": "stream",
     "text": [
      "MAE: 83998.45450349248\n",
      "RMSE: 116517.001734712\n",
      "MAPE: 29.349247701331045\n",
      "R2: 0.7119814417129566\n"
     ]
    }
   ],
   "source": [
    "X = df[['bath', 'bed', 'house_size', 'state', 'city']]\n",
    "y = df['price']\n",
    "X_train, X_test, Y_train, Y_test = train_test_split(X, y, test_size = 0.2, random_state=6)\n",
    "base_model = xgb.XGBRegressor(enable_categorical=True).fit(X_train, Y_train)\n",
    "base_pred = base_model.predict(X_test)\n",
    "mae_base = mean_absolute_error(Y_test, base_pred)\n",
    "rmse_base = np.sqrt(mean_squared_error(Y_test, base_pred))  \n",
    "r2_base = r2_score(Y_test, base_pred)\n",
    "mape_base = np.mean(np.abs((Y_test - base_pred) / Y_test)) * 100  \n",
    "print(f\"MAE: {mae_base}\")\n",
    "print(f\"RMSE: {rmse_base}\")\n",
    "print(f\"MAPE: {mape_base}\")\n",
    "print(f\"R2: {r2_base}\")"
   ]
  },
  {
   "cell_type": "markdown",
   "metadata": {},
   "source": [
    "Feature Importance"
   ]
  },
  {
   "cell_type": "code",
   "execution_count": null,
   "metadata": {},
   "outputs": [],
   "source": [
    "residuals = Y_test - base_pred\n",
    "plt.figure(figsize=(10, 6))\n",
    "sns.histplot(residuals, kde=True)\n",
    "plt.xlabel('Residuals')\n",
    "plt.ylabel('Frequency')\n",
    "plt.title('Histogram of Residuals')\n",
    "plt.show()\n",
    "\n",
    "feature_importance = base_model.feature_importances_\n",
    "features = X.columns\n",
    "plt.figure(figsize=(10, 6))\n",
    "plt.barh(features, feature_importance)\n",
    "plt.xlabel('Feature Importance')\n",
    "plt.ylabel('Feature')\n",
    "plt.title('Feature Importance of the Best Model')\n",
    "plt.show()"
   ]
  },
  {
   "cell_type": "markdown",
   "metadata": {},
   "source": [
    "Hyper parameter tuning: Find optimal combination of parameters to decrease the average percentage error rate. It includes cross validation in the process.  "
   ]
  },
  {
   "cell_type": "code",
   "execution_count": 31,
   "metadata": {},
   "outputs": [
    {
     "name": "stdout",
     "output_type": "stream",
     "text": [
      "Fitting 2 folds for each of 27 candidates, totalling 54 fits\n",
      "MAE: 77186.1336609868, RMSE: 110200.426890399, MAPE: 26.330857101827753, R2: 0.7423628866164432\n"
     ]
    }
   ],
   "source": [
    "from sklearn.model_selection import GridSearchCV\n",
    "\n",
    "param_grid = {\n",
    "    'max_depth': [2,4,6],\n",
    "    'learning_rate': [0.1, 0.2, 0.3],\n",
    "    'n_estimators': [100, 200, 300]\n",
    "}\n",
    "\n",
    "grid_search = GridSearchCV(estimator=xgb.XGBRegressor(enable_categorical=True), param_grid=param_grid, cv=2, scoring='neg_mean_absolute_percentage_error', verbose=1)\n",
    "grid_search.fit(X_train, Y_train)\n",
    "\n",
    "best_model = grid_search.best_estimator_\n",
    "best_pred = best_model.predict(X_test)\n",
    "\n",
    "mae_best = mean_absolute_error(Y_test, best_pred)\n",
    "rmse_best = np.sqrt(mean_squared_error(Y_test, best_pred))\n",
    "mape_best = np.mean(np.abs((Y_test - best_pred) / Y_test)) * 100\n",
    "r2_best = r2_score(Y_test, best_pred)\n",
    "\n",
    "print(f\"MAE: {mae_best}, RMSE: {rmse_best}, MAPE: {mape_best}, R2: {r2_best}\")"
   ]
  },
  {
   "cell_type": "code",
   "execution_count": null,
   "metadata": {},
   "outputs": [],
   "source": [
    "print(\"\\nBest parameters found by GridSearchCV:\")\n",
    "print(grid_search.best_params_)"
   ]
  },
  {
   "cell_type": "markdown",
   "metadata": {},
   "source": [
    "Best Model"
   ]
  },
  {
   "cell_type": "code",
   "execution_count": null,
   "metadata": {},
   "outputs": [
    {
     "name": "stdout",
     "output_type": "stream",
     "text": [
      "MAE: 85551.74140117777, RMSE: 118373.90162169954, MAPE: 29.91919928249733, R2: 0.7027281434989712\n"
     ]
    }
   ],
   "source": [
    "best_model = xgb.XGBRegressor(learning_rate=0.3, max_depth=3, n_estimators=800, enable_categorical=True).fit(X_train, Y_train)\n",
    "best_pred = best_model.predict(X_test)\n",
    "\n",
    "mae_best = mean_absolute_error(Y_test, best_pred)\n",
    "rmse_best = np.sqrt(mean_squared_error(Y_test, best_pred))\n",
    "mape_best = np.mean(np.abs((Y_test - best_pred) / Y_test)) * 100\n",
    "r2_besst = r2_score(Y_test, best_pred)\n",
    "print(f\"MAE: {mae_best}, RMSE: {rmse_best}, MAPE: {mape_best}, R2: {r2_besst}\")\n"
   ]
  },
  {
   "cell_type": "code",
   "execution_count": 24,
   "metadata": {},
   "outputs": [
    {
     "data": {
      "image/png": "[encoded data removed]",
      "text/plain": [
       "<Figure size 1000x600 with 1 Axes>"
      ]
     },
     "metadata": {},
     "output_type": "display_data"
    }
   ],
   "source": [
    "best_feature_importance = best_model.feature_importances_\n",
    "features = X.columns\n",
    "plt.figure(figsize=(10, 6))\n",
    "plt.barh(features, best_feature_importance)\n",
    "plt.xlabel('Feature Importance')\n",
    "plt.ylabel('Feature')\n",
    "plt.title('Feature Importance of the Best Model')\n",
    "plt.show()"
   ]
  },
  {
   "cell_type": "code",
   "execution_count": 33,
   "metadata": {},
   "outputs": [
    {
     "name": "stdout",
     "output_type": "stream",
     "text": [
      "segment\n",
      "<300k        40.198400\n",
      "300k-400k    17.526344\n",
      "400k-500k    15.822385\n",
      "500k-1M      16.226168\n",
      "1M+                NaN\n",
      "Name: pct_error, dtype: float64\n"
     ]
    },
    {
     "name": "stderr",
     "output_type": "stream",
     "text": [
      "C:\\Users\\tomas\\AppData\\Local\\Temp\\ipykernel_6532\\1603868989.py:8: FutureWarning: The default of observed=False is deprecated and will be changed to True in a future version of pandas. Pass observed=False to retain current behavior or observed=True to adopt the future default and silence this warning.\n",
      "  mape_by_segment = segment_df.groupby('segment')['pct_error'].mean()\n"
     ]
    }
   ],
   "source": [
    "bins = [0, 300_000, 400_000, 500_000, 1_000_000, float('inf')]\n",
    "labels = ['<300k', '300k-400k', '400k-500k', '500k-1M', '1M+']\n",
    "\n",
    "price_segments = pd.cut(Y_test, bins=bins, labels=labels)\n",
    "segment_df = pd.DataFrame({'actual': Y_test, 'pred': best_pred, 'segment': price_segments})\n",
    "segment_df['pct_error'] = np.abs(segment_df['actual'] - segment_df['pred']) / segment_df['actual'] * 100\n",
    "\n",
    "mape_by_segment = segment_df.groupby('segment')['pct_error'].mean()\n",
    "print(mape_by_segment)"
   ]
  },
  {
   "cell_type": "markdown",
   "metadata": {},
   "source": [
    "Save model"
   ]
  },
  {
   "cell_type": "code",
   "execution_count": null,
   "metadata": {},
   "outputs": [],
   "source": [
    "joblib.dump((best_model, X.columns), 'Best_Model.pkl')"
   ]
  },
  {
   "cell_type": "markdown",
   "metadata": {},
   "source": [
    "Model for houses below 300k"
   ]
  },
  {
   "cell_type": "code",
   "execution_count": null,
   "metadata": {},
   "outputs": [],
   "source": [
    "low_model = df[df['price'] <= 300000]\n",
    "X_low = low_model[['state', 'city', 'bath', 'bed', 'house_size']]\n",
    "y_low = low_model['price']\n",
    "X_low_train, X_low_test, Y_low_train, Y_low_test = train_test_split(X_low, y_low, test_size=0.2, random_state=52)\n",
    "xgb_low_model = xgb.XGBRegressor(learning_rate=0.1, max_depth=10, n_estimators=800, tree_method = 'hist', early_stopping_rounds = 50,  enable_categorical=True).fit(X_low_train, Y_low_train, eval_set=[(X_low_test, Y_low_test)], verbose=1)\n",
    "low_pred = xgb_low_model.predict(X_low_test)\n",
    "mae_low = mean_absolute_error(Y_low_test, low_pred)\n",
    "rmse_low = np.sqrt(mean_squared_error(Y_low_test, low_pred))\n",
    "mape_low = np.mean(np.abs((Y_low_test - low_pred) / Y_low_test)) * 100\n",
    "r2_low = r2_score(Y_low_test, low_pred)\n",
    "print(f\"MAE: {mae_low}, RMSE: {rmse_low}, MAPE: {mape_low}, R2: {r2_low}\")\n",
    "low_feature_importance = xgb_low_model.feature_importances_\n",
    "features = X_low.columns\n",
    "plt.figure(figsize=(10, 6))\n",
    "plt.barh(features, low_feature_importance)\n",
    "plt.xlabel('Feature Importance')\n",
    "plt.ylabel('Feature')\n",
    "plt.title('Feature Importance of the Low Price Model')\n",
    "plt.show()"
   ]
  },
  {
   "cell_type": "markdown",
   "metadata": {},
   "source": [
    "Hyper parameter tuning for model with houses below $300,000. It includes cross validation in the process."
   ]
  },
  {
   "cell_type": "code",
   "execution_count": null,
   "metadata": {},
   "outputs": [],
   "source": [
    "param_grid_low = {\n",
    "    'max_depth': [2, 4],\n",
    "    'learning_rate': [0.1, 0.3],\n",
    "    'n_estimators': [200, 400]\n",
    "}\n",
    "grid_search_low = GridSearchCV(estimator=xgb_low_model, param_grid=param_grid_low, cv=3, scoring='neg_mean_absolute_percentage_error', verbose=1)\n",
    "grid_search_low.fit(X_low_train, Y_low_train, eval_set=[(X_low_test, Y_low_test)], verbose=1)\n",
    "print(\"Best parameters found for low price model: \", grid_search_low.best_params_)\n",
    "best_low_model = grid_search_low.best_estimator_\n",
    "best_low_pred = best_low_model.predict(X_low_test)\n",
    "mae_low = mean_absolute_error(Y_low_test, best_low_pred)\n",
    "rmse_low = np.sqrt(mean_squared_error(Y_low_test, best_low_pred))\n",
    "mape_low = np.mean(np.abs((Y_low_test - best_low_pred) / Y_low_test)) * 100\n",
    "r2_low = r2_score(Y_low_test, best_low_pred)\n",
    "print(f\"MAE: {mae_low}, RMSE: {rmse_low}, MAPE: {mape_low}, R2: {r2_low}\")\n"
   ]
  },
  {
   "cell_type": "code",
   "execution_count": 14,
   "metadata": {},
   "outputs": [
    {
     "name": "stdout",
     "output_type": "stream",
     "text": [
      "Best parameters found:  {'learning_rate': 0.3, 'max_depth': 4, 'n_estimators': 400}\n",
      "Best score:  -0.256232974216861\n"
     ]
    }
   ],
   "source": [
    "\n",
    "print(\"Best parameters found: \", grid_search_low.best_params_)\n",
    "print(\"Best score: \", grid_search_low.best_score_)"
   ]
  },
  {
   "cell_type": "code",
   "execution_count": null,
   "metadata": {},
   "outputs": [],
   "source": [
    "best_low_model = xgb.XGBRegressor(learning_rate=0.1, max_depth=8, n_estimators=800, tree_method = 'hist', early_stopping_rounds = 50,  enable_categorical=True).fit(X_low_train, Y_low_train, eval_set=[(X_low_test, Y_low_test)], verbose=1)\n",
    "best_low_pred = best_low_model.predict(X_low_test)\n",
    "mae_low_best = mean_absolute_error(Y_low_test, best_low_pred)\n",
    "rmse_low_best = np.sqrt(mean_squared_error(Y_low_test, best_low_pred))\n",
    "mape_low_best = np.mean(np.abs((Y_low_test - best_low_pred) / Y_low_test)) * 100\n",
    "r2_low_best = r2_score(Y_low_test, best_low_pred)\n",
    "print(f\"MAE: {mae_low_best}, RMSE: {rmse_low_best}, MAPE: {mape_low_best}, R2: {r2_low_best}\")"
   ]
  },
  {
   "cell_type": "markdown",
   "metadata": {},
   "source": [
    "Save low model"
   ]
  },
  {
   "cell_type": "code",
   "execution_count": 15,
   "metadata": {},
   "outputs": [
    {
     "data": {
      "text/plain": [
       "['Best_low_model.pkl']"
      ]
     },
     "execution_count": 15,
     "metadata": {},
     "output_type": "execute_result"
    }
   ],
   "source": [
    "joblib.dump((best_model, X_low), 'Best_low_model.pkl')"
   ]
  }
 ],
 "metadata": {
  "kernelspec": {
   "display_name": "venv",
   "language": "python",
   "name": "python3"
  },
  "language_info": {
   "codemirror_mode": {
    "name": "ipython",
    "version": 3
   },
   "file_extension": ".py",
   "mimetype": "text/x-python",
   "name": "python",
   "nbconvert_exporter": "python",
   "pygments_lexer": "ipython3",
   "version": "3.13.1"
  }
 },
 "nbformat": 4,
 "nbformat_minor": 2
}
