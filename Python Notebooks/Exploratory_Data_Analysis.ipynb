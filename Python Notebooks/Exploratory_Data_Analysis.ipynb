{
 "cells": [
  {
   "cell_type": "markdown",
   "metadata": {},
   "source": [
    "Import Packages"
   ]
  },
  {
   "cell_type": "code",
   "execution_count": 1,
   "metadata": {},
   "outputs": [],
   "source": [
    "import pandas as pd\n",
    "import matplotlib.pyplot as plt\n",
    "import numpy as np"
   ]
  },
  {
   "cell_type": "markdown",
   "metadata": {},
   "source": [
    "Read the data and information about the data"
   ]
  },
  {
   "cell_type": "code",
   "execution_count": 2,
   "metadata": {},
   "outputs": [
    {
     "data": {
      "application/vnd.microsoft.datawrangler.viewer.v0+json": {
       "columns": [
        {
         "name": "index",
         "rawType": "int64",
         "type": "integer"
        },
        {
         "name": "brokered_by",
         "rawType": "float64",
         "type": "float"
        },
        {
         "name": "status",
         "rawType": "object",
         "type": "string"
        },
        {
         "name": "price",
         "rawType": "float64",
         "type": "float"
        },
        {
         "name": "bed",
         "rawType": "float64",
         "type": "float"
        },
        {
         "name": "bath",
         "rawType": "float64",
         "type": "float"
        },
        {
         "name": "acre_lot",
         "rawType": "float64",
         "type": "float"
        },
        {
         "name": "street",
         "rawType": "float64",
         "type": "float"
        },
        {
         "name": "city",
         "rawType": "object",
         "type": "string"
        },
        {
         "name": "state",
         "rawType": "object",
         "type": "string"
        },
        {
         "name": "zip_code",
         "rawType": "float64",
         "type": "float"
        },
        {
         "name": "house_size",
         "rawType": "float64",
         "type": "float"
        },
        {
         "name": "prev_sold_date",
         "rawType": "object",
         "type": "unknown"
        }
       ],
       "ref": "a6c42e83-b73d-493c-9e46-6907b65c48fb",
       "rows": [
        [
         "0",
         "103378.0",
         "for_sale",
         "105000.0",
         "3.0",
         "2.0",
         "0.12",
         "1962661.0",
         "Adjuntas",
         "Puerto Rico",
         "601.0",
         "920.0",
         null
        ],
        [
         "1",
         "52707.0",
         "for_sale",
         "80000.0",
         "4.0",
         "2.0",
         "0.08",
         "1902874.0",
         "Adjuntas",
         "Puerto Rico",
         "601.0",
         "1527.0",
         null
        ],
        [
         "2",
         "103379.0",
         "for_sale",
         "67000.0",
         "2.0",
         "1.0",
         "0.15",
         "1404990.0",
         "Juana Diaz",
         "Puerto Rico",
         "795.0",
         "748.0",
         null
        ],
        [
         "3",
         "31239.0",
         "for_sale",
         "145000.0",
         "4.0",
         "2.0",
         "0.1",
         "1947675.0",
         "Ponce",
         "Puerto Rico",
         "731.0",
         "1800.0",
         null
        ],
        [
         "4",
         "34632.0",
         "for_sale",
         "65000.0",
         "6.0",
         "2.0",
         "0.05",
         "331151.0",
         "Mayaguez",
         "Puerto Rico",
         "680.0",
         null,
         null
        ]
       ],
       "shape": {
        "columns": 12,
        "rows": 5
       }
      },
      "text/html": [
       "<div>\n",
       "<style scoped>\n",
       "    .dataframe tbody tr th:only-of-type {\n",
       "        vertical-align: middle;\n",
       "    }\n",
       "\n",
       "    .dataframe tbody tr th {\n",
       "        vertical-align: top;\n",
       "    }\n",
       "\n",
       "    .dataframe thead th {\n",
       "        text-align: right;\n",
       "    }\n",
       "</style>\n",
       "<table border=\"1\" class=\"dataframe\">\n",
       "  <thead>\n",
       "    <tr style=\"text-align: right;\">\n",
       "      <th></th>\n",
       "      <th>brokered_by</th>\n",
       "      <th>status</th>\n",
       "      <th>price</th>\n",
       "      <th>bed</th>\n",
       "      <th>bath</th>\n",
       "      <th>acre_lot</th>\n",
       "      <th>street</th>\n",
       "      <th>city</th>\n",
       "      <th>state</th>\n",
       "      <th>zip_code</th>\n",
       "      <th>house_size</th>\n",
       "      <th>prev_sold_date</th>\n",
       "    </tr>\n",
       "  </thead>\n",
       "  <tbody>\n",
       "    <tr>\n",
       "      <th>0</th>\n",
       "      <td>103378.0</td>\n",
       "      <td>for_sale</td>\n",
       "      <td>105000.0</td>\n",
       "      <td>3.0</td>\n",
       "      <td>2.0</td>\n",
       "      <td>0.12</td>\n",
       "      <td>1962661.0</td>\n",
       "      <td>Adjuntas</td>\n",
       "      <td>Puerto Rico</td>\n",
       "      <td>601.0</td>\n",
       "      <td>920.0</td>\n",
       "      <td>NaN</td>\n",
       "    </tr>\n",
       "    <tr>\n",
       "      <th>1</th>\n",
       "      <td>52707.0</td>\n",
       "      <td>for_sale</td>\n",
       "      <td>80000.0</td>\n",
       "      <td>4.0</td>\n",
       "      <td>2.0</td>\n",
       "      <td>0.08</td>\n",
       "      <td>1902874.0</td>\n",
       "      <td>Adjuntas</td>\n",
       "      <td>Puerto Rico</td>\n",
       "      <td>601.0</td>\n",
       "      <td>1527.0</td>\n",
       "      <td>NaN</td>\n",
       "    </tr>\n",
       "    <tr>\n",
       "      <th>2</th>\n",
       "      <td>103379.0</td>\n",
       "      <td>for_sale</td>\n",
       "      <td>67000.0</td>\n",
       "      <td>2.0</td>\n",
       "      <td>1.0</td>\n",
       "      <td>0.15</td>\n",
       "      <td>1404990.0</td>\n",
       "      <td>Juana Diaz</td>\n",
       "      <td>Puerto Rico</td>\n",
       "      <td>795.0</td>\n",
       "      <td>748.0</td>\n",
       "      <td>NaN</td>\n",
       "    </tr>\n",
       "    <tr>\n",
       "      <th>3</th>\n",
       "      <td>31239.0</td>\n",
       "      <td>for_sale</td>\n",
       "      <td>145000.0</td>\n",
       "      <td>4.0</td>\n",
       "      <td>2.0</td>\n",
       "      <td>0.10</td>\n",
       "      <td>1947675.0</td>\n",
       "      <td>Ponce</td>\n",
       "      <td>Puerto Rico</td>\n",
       "      <td>731.0</td>\n",
       "      <td>1800.0</td>\n",
       "      <td>NaN</td>\n",
       "    </tr>\n",
       "    <tr>\n",
       "      <th>4</th>\n",
       "      <td>34632.0</td>\n",
       "      <td>for_sale</td>\n",
       "      <td>65000.0</td>\n",
       "      <td>6.0</td>\n",
       "      <td>2.0</td>\n",
       "      <td>0.05</td>\n",
       "      <td>331151.0</td>\n",
       "      <td>Mayaguez</td>\n",
       "      <td>Puerto Rico</td>\n",
       "      <td>680.0</td>\n",
       "      <td>NaN</td>\n",
       "      <td>NaN</td>\n",
       "    </tr>\n",
       "  </tbody>\n",
       "</table>\n",
       "</div>"
      ],
      "text/plain": [
       "   brokered_by    status     price  bed  bath  acre_lot     street  \\\n",
       "0     103378.0  for_sale  105000.0  3.0   2.0      0.12  1962661.0   \n",
       "1      52707.0  for_sale   80000.0  4.0   2.0      0.08  1902874.0   \n",
       "2     103379.0  for_sale   67000.0  2.0   1.0      0.15  1404990.0   \n",
       "3      31239.0  for_sale  145000.0  4.0   2.0      0.10  1947675.0   \n",
       "4      34632.0  for_sale   65000.0  6.0   2.0      0.05   331151.0   \n",
       "\n",
       "         city        state  zip_code  house_size prev_sold_date  \n",
       "0    Adjuntas  Puerto Rico     601.0       920.0            NaN  \n",
       "1    Adjuntas  Puerto Rico     601.0      1527.0            NaN  \n",
       "2  Juana Diaz  Puerto Rico     795.0       748.0            NaN  \n",
       "3       Ponce  Puerto Rico     731.0      1800.0            NaN  \n",
       "4    Mayaguez  Puerto Rico     680.0         NaN            NaN  "
      ]
     },
     "execution_count": 2,
     "metadata": {},
     "output_type": "execute_result"
    }
   ],
   "source": [
    "df = pd.read_csv('../Data/realtor_project.csv')\n",
    "df.shape\n",
    "df.info\n",
    "df.head(5)"
   ]
  },
  {
   "cell_type": "markdown",
   "metadata": {},
   "source": [
    "Check for missing values and delete columns I will not use. "
   ]
  },
  {
   "cell_type": "code",
   "execution_count": 3,
   "metadata": {},
   "outputs": [
    {
     "data": {
      "application/vnd.microsoft.datawrangler.viewer.v0+json": {
       "columns": [
        {
         "name": "index",
         "rawType": "object",
         "type": "string"
        },
        {
         "name": "0",
         "rawType": "int64",
         "type": "integer"
        }
       ],
       "ref": "7ad85943-a7ae-4233-9d3b-cb913767e3c8",
       "rows": [
        [
         "house_size",
         "568484"
        ],
        [
         "bath",
         "511771"
        ],
        [
         "bed",
         "481317"
        ],
        [
         "acre_lot",
         "325589"
        ],
        [
         "price",
         "1541"
        ],
        [
         "city",
         "1407"
        ],
        [
         "zip_code",
         "299"
        ],
        [
         "state",
         "8"
        ],
        [
         "status",
         "0"
        ]
       ],
       "shape": {
        "columns": 1,
        "rows": 9
       }
      },
      "text/plain": [
       "house_size    568484\n",
       "bath          511771\n",
       "bed           481317\n",
       "acre_lot      325589\n",
       "price           1541\n",
       "city            1407\n",
       "zip_code         299\n",
       "state              8\n",
       "status             0\n",
       "dtype: int64"
      ]
     },
     "execution_count": 3,
     "metadata": {},
     "output_type": "execute_result"
    }
   ],
   "source": [
    "df.columns\n",
    "df = df.drop(columns=['prev_sold_date', 'street', 'brokered_by'])\n",
    "df.isna().sum().sort_values(ascending=False)"
   ]
  },
  {
   "cell_type": "markdown",
   "metadata": {},
   "source": [
    "Explore NA values"
   ]
  },
  {
   "cell_type": "code",
   "execution_count": 4,
   "metadata": {},
   "outputs": [
    {
     "data": {
      "application/vnd.microsoft.datawrangler.viewer.v0+json": {
       "columns": [
        {
         "name": "bed",
         "rawType": "float64",
         "type": "float"
        },
        {
         "name": "count",
         "rawType": "int64",
         "type": "integer"
        }
       ],
       "ref": "077c275f-8e01-4b97-af41-434c5115e25d",
       "rows": [
        [
         "3.0",
         "15282"
        ],
        [
         "4.0",
         "14307"
        ],
        [
         "2.0",
         "4351"
        ],
        [
         "5.0",
         "2828"
        ],
        [
         "6.0",
         "1038"
        ],
        [
         "1.0",
         "762"
        ],
        [
         "8.0",
         "381"
        ],
        [
         "7.0",
         "252"
        ],
        [
         "10.0",
         "136"
        ],
        [
         "9.0",
         "130"
        ],
        [
         "12.0",
         "113"
        ],
        [
         "11.0",
         "58"
        ],
        [
         "14.0",
         "43"
        ],
        [
         "16.0",
         "40"
        ],
        [
         "20.0",
         "26"
        ],
        [
         "18.0",
         "24"
        ],
        [
         "15.0",
         "22"
        ],
        [
         "24.0",
         "21"
        ],
        [
         "13.0",
         "18"
        ],
        [
         "30.0",
         "10"
        ],
        [
         "28.0",
         "9"
        ],
        [
         "17.0",
         "8"
        ],
        [
         "32.0",
         "8"
        ],
        [
         "36.0",
         "8"
        ],
        [
         "21.0",
         "7"
        ],
        [
         "19.0",
         "7"
        ],
        [
         "26.0",
         "6"
        ],
        [
         "27.0",
         "5"
        ],
        [
         "23.0",
         "5"
        ],
        [
         "29.0",
         "5"
        ],
        [
         "22.0",
         "4"
        ],
        [
         "25.0",
         "3"
        ],
        [
         "40.0",
         "3"
        ],
        [
         "72.0",
         "2"
        ],
        [
         "37.0",
         "2"
        ],
        [
         "64.0",
         "2"
        ],
        [
         "46.0",
         "2"
        ],
        [
         "33.0",
         "2"
        ],
        [
         "48.0",
         "2"
        ],
        [
         "55.0",
         "2"
        ],
        [
         "50.0",
         "2"
        ],
        [
         "54.0",
         "1"
        ],
        [
         "142.0",
         "1"
        ],
        [
         "210.0",
         "1"
        ],
        [
         "44.0",
         "1"
        ],
        [
         "80.0",
         "1"
        ],
        [
         "136.0",
         "1"
        ],
        [
         "110.0",
         "1"
        ],
        [
         "52.0",
         "1"
        ],
        [
         "100.0",
         "1"
        ]
       ],
       "shape": {
        "columns": 1,
        "rows": 64
       }
      },
      "text/plain": [
       "bed\n",
       "3.0      15282\n",
       "4.0      14307\n",
       "2.0       4351\n",
       "5.0       2828\n",
       "6.0       1038\n",
       "         ...  \n",
       "43.0         1\n",
       "111.0        1\n",
       "120.0        1\n",
       "31.0         1\n",
       "42.0         1\n",
       "Name: count, Length: 64, dtype: int64"
      ]
     },
     "execution_count": 4,
     "metadata": {},
     "output_type": "execute_result"
    }
   ],
   "source": [
    "df_showNA = df[df.isna().any(axis=1)]\n",
    "bed_na = df.loc[df['bed'].isna()]\n",
    "#bed_na.value_counts()\n",
    "bath_na = df.loc[df['bath'].isna()]\n",
    "bath_na['bed'].value_counts()"
   ]
  },
  {
   "cell_type": "markdown",
   "metadata": {},
   "source": [
    "## NA Filling Strategy\n",
    "Remove rows that have NA for bed, bath, and house size in the same row.\n",
    "### 1. Fill Missing `house_size`\n",
    "- Use the **median `house_size`** based on:\n",
    "  - `state`\n",
    "  - `city`\n",
    "  - `bed` (number of bedrooms)\n",
    "### 2. Fill Missing `bed`\n",
    "- Use the **median `bed`** based on:\n",
    "  - `house_size`\n",
    "  - `bath` (number of bathrooms)\n",
    "  - `city`\n",
    "  - `state`\n",
    "### 3. Fill Missing `bath`\n",
    "- Use the **median `bath`** based on:\n",
    "  - `house_size`\n",
    "  - `bed`\n",
    "  - `city`\n",
    "  - `state`"
   ]
  },
  {
   "cell_type": "code",
   "execution_count": 5,
   "metadata": {},
   "outputs": [
    {
     "data": {
      "application/vnd.microsoft.datawrangler.viewer.v0+json": {
       "columns": [
        {
         "name": "index",
         "rawType": "object",
         "type": "string"
        },
        {
         "name": "0",
         "rawType": "int64",
         "type": "integer"
        }
       ],
       "ref": "b3de273c-203f-4582-aa42-63284a0e8e99",
       "rows": [
        [
         "acre_lot",
         "312958"
        ],
        [
         "bath",
         "15322"
        ],
        [
         "bed",
         "13218"
        ],
        [
         "house_size",
         "5343"
        ],
        [
         "price",
         "1132"
        ],
        [
         "city",
         "402"
        ],
        [
         "zip_code",
         "121"
        ],
        [
         "state",
         "6"
        ],
        [
         "status",
         "0"
        ]
       ],
       "shape": {
        "columns": 1,
        "rows": 9
       }
      },
      "text/plain": [
       "acre_lot      312958\n",
       "bath           15322\n",
       "bed            13218\n",
       "house_size      5343\n",
       "price           1132\n",
       "city             402\n",
       "zip_code         121\n",
       "state              6\n",
       "status             0\n",
       "dtype: int64"
      ]
     },
     "execution_count": 5,
     "metadata": {},
     "output_type": "execute_result"
    }
   ],
   "source": [
    "df = df.dropna(subset=['bed', 'bath', 'house_size'], how = 'all')\n",
    "#df = df.dropna()\n",
    "df['house_size'] = df['house_size'].fillna(df.groupby(['state', 'city', 'bed', 'bath'])['house_size'].transform('median'))\n",
    "df['house_size'] = df['house_size'].fillna(df.groupby(['state', 'city', 'bed'])['house_size'].transform('median'))\n",
    "df['house_size'] = df['house_size'].fillna(df.groupby(['state', 'city', 'bath'])['house_size'].transform('median'))\n",
    "df['bath'] = df['bath'].fillna(df.groupby(['state', 'city', 'bed'])['bath'].transform('median'))\n",
    "df['bed'] = df['bed'].fillna(df.groupby(['state', 'city', 'bath'])['bed'].transform('median'))\n",
    "df.isna().sum().sort_values(ascending=False)"
   ]
  },
  {
   "cell_type": "code",
   "execution_count": 6,
   "metadata": {},
   "outputs": [
    {
     "data": {
      "application/vnd.microsoft.datawrangler.viewer.v0+json": {
       "columns": [
        {
         "name": "index",
         "rawType": "object",
         "type": "string"
        },
        {
         "name": "price",
         "rawType": "float64",
         "type": "float"
        },
        {
         "name": "bath",
         "rawType": "float64",
         "type": "float"
        },
        {
         "name": "house_size",
         "rawType": "float64",
         "type": "float"
        },
        {
         "name": "bed",
         "rawType": "float64",
         "type": "float"
        },
        {
         "name": "acre_lot",
         "rawType": "float64",
         "type": "float"
        }
       ],
       "ref": "1e37b39d-7597-4245-adc5-3f5c7d74f0ef",
       "rows": [
        [
         "price",
         "1.0",
         "0.17865383111011676",
         "0.0002662909456332172",
         "0.11501669465998392",
         "0.007181909798893429"
        ],
        [
         "bath",
         "0.17865383111011676",
         "1.0",
         "0.20457389572573248",
         "0.6150150255862523",
         "-0.0009787648969725566"
        ],
        [
         "house_size",
         "0.0002662909456332172",
         "0.20457389572573248",
         "1.0",
         "0.18652728851771025",
         "0.0009377368433675798"
        ],
        [
         "bed",
         "0.11501669465998392",
         "0.6150150255862523",
         "0.18652728851771025",
         "1.0",
         "1.4933111703188543e-05"
        ],
        [
         "acre_lot",
         "0.007181909798893429",
         "-0.0009787648969725566",
         "0.0009377368433675798",
         "1.4933111703188543e-05",
         "1.0"
        ]
       ],
       "shape": {
        "columns": 5,
        "rows": 5
       }
      },
      "text/html": [
       "<div>\n",
       "<style scoped>\n",
       "    .dataframe tbody tr th:only-of-type {\n",
       "        vertical-align: middle;\n",
       "    }\n",
       "\n",
       "    .dataframe tbody tr th {\n",
       "        vertical-align: top;\n",
       "    }\n",
       "\n",
       "    .dataframe thead th {\n",
       "        text-align: right;\n",
       "    }\n",
       "</style>\n",
       "<table border=\"1\" class=\"dataframe\">\n",
       "  <thead>\n",
       "    <tr style=\"text-align: right;\">\n",
       "      <th></th>\n",
       "      <th>price</th>\n",
       "      <th>bath</th>\n",
       "      <th>house_size</th>\n",
       "      <th>bed</th>\n",
       "      <th>acre_lot</th>\n",
       "    </tr>\n",
       "  </thead>\n",
       "  <tbody>\n",
       "    <tr>\n",
       "      <th>price</th>\n",
       "      <td>1.000000</td>\n",
       "      <td>0.178654</td>\n",
       "      <td>0.000266</td>\n",
       "      <td>0.115017</td>\n",
       "      <td>0.007182</td>\n",
       "    </tr>\n",
       "    <tr>\n",
       "      <th>bath</th>\n",
       "      <td>0.178654</td>\n",
       "      <td>1.000000</td>\n",
       "      <td>0.204574</td>\n",
       "      <td>0.615015</td>\n",
       "      <td>-0.000979</td>\n",
       "    </tr>\n",
       "    <tr>\n",
       "      <th>house_size</th>\n",
       "      <td>0.000266</td>\n",
       "      <td>0.204574</td>\n",
       "      <td>1.000000</td>\n",
       "      <td>0.186527</td>\n",
       "      <td>0.000938</td>\n",
       "    </tr>\n",
       "    <tr>\n",
       "      <th>bed</th>\n",
       "      <td>0.115017</td>\n",
       "      <td>0.615015</td>\n",
       "      <td>0.186527</td>\n",
       "      <td>1.000000</td>\n",
       "      <td>0.000015</td>\n",
       "    </tr>\n",
       "    <tr>\n",
       "      <th>acre_lot</th>\n",
       "      <td>0.007182</td>\n",
       "      <td>-0.000979</td>\n",
       "      <td>0.000938</td>\n",
       "      <td>0.000015</td>\n",
       "      <td>1.000000</td>\n",
       "    </tr>\n",
       "  </tbody>\n",
       "</table>\n",
       "</div>"
      ],
      "text/plain": [
       "               price      bath  house_size       bed  acre_lot\n",
       "price       1.000000  0.178654    0.000266  0.115017  0.007182\n",
       "bath        0.178654  1.000000    0.204574  0.615015 -0.000979\n",
       "house_size  0.000266  0.204574    1.000000  0.186527  0.000938\n",
       "bed         0.115017  0.615015    0.186527  1.000000  0.000015\n",
       "acre_lot    0.007182 -0.000979    0.000938  0.000015  1.000000"
      ]
     },
     "execution_count": 6,
     "metadata": {},
     "output_type": "execute_result"
    }
   ],
   "source": [
    "df[['price', 'bath', 'house_size', 'bed', 'acre_lot']].corr()"
   ]
  },
  {
   "cell_type": "code",
   "execution_count": 7,
   "metadata": {},
   "outputs": [
    {
     "data": {
      "text/plain": [
       "(1436033, 9)"
      ]
     },
     "execution_count": 7,
     "metadata": {},
     "output_type": "execute_result"
    }
   ],
   "source": [
    "df = df.dropna()\n",
    "df.shape"
   ]
  },
  {
   "cell_type": "markdown",
   "metadata": {},
   "source": [
    "Fix data types and add price per sqft column"
   ]
  },
  {
   "cell_type": "code",
   "execution_count": 8,
   "metadata": {},
   "outputs": [],
   "source": [
    "df.dtypes\n",
    "df['bed'] = df['bed'].astype(int)\n",
    "df['bath'] = df['bath'].astype(int)\n",
    "df['zip_code'] = df['zip_code'].astype('category')\n",
    "df['status'] = df['status'].astype('category')\n",
    "df['state'] = df['state'].astype('category')\n",
    "df['city'] = df['city'].astype('category')\n",
    "df['Price_per_sqft'] = df['price'] / df['house_size']\n",
    "df['Price_per_sqft'] = df['Price_per_sqft'].astype(float)\n",
    "#df.dtypes"
   ]
  },
  {
   "cell_type": "markdown",
   "metadata": {},
   "source": [
    "I will analyze each variable to clean and gain a deeper understanding of the data before modeling. "
   ]
  },
  {
   "cell_type": "markdown",
   "metadata": {},
   "source": [
    "Price Variable"
   ]
  },
  {
   "cell_type": "code",
   "execution_count": 10,
   "metadata": {},
   "outputs": [
    {
     "data": {
      "image/png": "[encoded data removed]",
      "text/plain": [
       "<Figure size 640x480 with 1 Axes>"
      ]
     },
     "metadata": {},
     "output_type": "display_data"
    }
   ],
   "source": [
    "#I do not like seing visuals with scientific notation format.\n",
    "pd.set_option('display.float_format', '{:.2f}'.format)\n",
    "df['price'].describe()\n",
    "df = df[(df['price'] >= 50000) & (df['price'] <= 1000000)]\n",
    "df['price'].plot(kind='box')\n",
    "plt.ticklabel_format(style='plain', axis='y')\n",
    "plt.show()"
   ]
  },
  {
   "cell_type": "code",
   "execution_count": 11,
   "metadata": {},
   "outputs": [],
   "source": [
    "#lisf of count of houses with lowst price to highest price in the dataset\n",
    "list_price = df['price'].value_counts().sort_index()"
   ]
  },
  {
   "cell_type": "markdown",
   "metadata": {},
   "source": [
    "I filtered for houses priced below 1 million dollars because the 75th percentile of the price distribution is at $550,000. By keeping the price variable below 1 million dollars, I aim to improve the accuracy of the predictions by reducing the number of outliers in the price variable."
   ]
  },
  {
   "cell_type": "markdown",
   "metadata": {},
   "source": [
    "House Size variable"
   ]
  },
  {
   "cell_type": "code",
   "execution_count": 13,
   "metadata": {},
   "outputs": [
    {
     "data": {
      "image/png": "[encoded data removed]",
      "text/plain": [
       "<Figure size 640x480 with 1 Axes>"
      ]
     },
     "metadata": {},
     "output_type": "display_data"
    }
   ],
   "source": [
    "df['house_size'].describe()\n",
    "list_size = df[df['house_size'] > 4000].shape[0]\n",
    "list_size\n",
    "df['house_size'].plot(kind='box')\n",
    "plt.ticklabel_format(style='plain', axis='y')\n",
    "plt.show()\n",
    "df = df[(df['house_size'] >= 200) & (df['house_size'] <= 10000)]"
   ]
  },
  {
   "cell_type": "markdown",
   "metadata": {},
   "source": [
    "There were outliers from houses that looked extremley big, such as a house with 1040400400 sqft. I decided to filter the data to have houses below 10000 sqft and above 200 sqft since i saw that 75% of the data has houses that are below 2238 sqft. Therefore, it will decrease the influence of outliers and at the same time allow for a reasonable range of larger homes. "
   ]
  },
  {
   "cell_type": "markdown",
   "metadata": {},
   "source": [
    "Bed variable"
   ]
  },
  {
   "cell_type": "code",
   "execution_count": 15,
   "metadata": {},
   "outputs": [
    {
     "data": {
      "image/png": "[encoded data removed]",
      "text/plain": [
       "<Figure size 640x480 with 1 Axes>"
      ]
     },
     "metadata": {},
     "output_type": "display_data"
    }
   ],
   "source": [
    "df['bed'].describe()\n",
    "df['bed'].plot(kind='box')\n",
    "df['bed'].value_counts().sort_values(ascending=False)\n",
    "df = df[df['bed'] <= 10]"
   ]
  },
  {
   "cell_type": "markdown",
   "metadata": {},
   "source": [
    "I filtered the data to have houses with less than or equal to 10 beds. There was an outier of a house with 444 beds which is most likely a mistake. The 75% percentile of the bed distribution is 4, so this filter ensures the data reflects realistic values while retaining some houses with more beds."
   ]
  },
  {
   "cell_type": "code",
   "execution_count": 16,
   "metadata": {},
   "outputs": [
    {
     "data": {
      "text/plain": [
       "(1282177, 10)"
      ]
     },
     "execution_count": 16,
     "metadata": {},
     "output_type": "execute_result"
    }
   ],
   "source": [
    "df.shape"
   ]
  },
  {
   "cell_type": "markdown",
   "metadata": {},
   "source": [
    "Bathroom variable"
   ]
  },
  {
   "cell_type": "code",
   "execution_count": 18,
   "metadata": {},
   "outputs": [
    {
     "data": {
      "image/png": "[encoded data removed]",
      "text/plain": [
       "<Figure size 640x480 with 1 Axes>"
      ]
     },
     "metadata": {},
     "output_type": "display_data"
    }
   ],
   "source": [
    "df['bath'].describe()\n",
    "df['bath'].plot(kind='box')\n",
    "df['bath'].value_counts().sort_values(ascending=False)\n",
    "df = df[df['bath'] <= 10]"
   ]
  },
  {
   "cell_type": "markdown",
   "metadata": {},
   "source": [
    "I filtered the data to have houses that have 10 bathrooms or less. There were outliers of houses with 175 bathrooms, which is unrealistic. Furthermore, 75% of the data has houses with 3 bathrooms or less, which means that I will not be losing much data while keeping some larger houses with more bathrooms."
   ]
  },
  {
   "cell_type": "markdown",
   "metadata": {},
   "source": [
    "State Variable"
   ]
  },
  {
   "cell_type": "code",
   "execution_count": 20,
   "metadata": {},
   "outputs": [
    {
     "data": {
      "application/vnd.microsoft.datawrangler.viewer.v0+json": {
       "columns": [
        {
         "name": "state",
         "rawType": "category",
         "type": "unknown"
        },
        {
         "name": "count",
         "rawType": "int64",
         "type": "integer"
        }
       ],
       "ref": "5809a70c-52ce-4b14-80ce-edd76d385552",
       "rows": [
        [
         "Guam",
         "104"
        ],
        [
         "Virgin Islands",
         "115"
        ],
        [
         "Alaska",
         "781"
        ],
        [
         "Vermont",
         "1137"
        ],
        [
         "Puerto Rico",
         "1587"
        ],
        [
         "Wyoming",
         "1591"
        ],
        [
         "New Hampshire",
         "1603"
        ],
        [
         "District of Columbia",
         "1689"
        ],
        [
         "South Dakota",
         "1913"
        ],
        [
         "Maine",
         "2065"
        ],
        [
         "North Dakota",
         "2312"
        ],
        [
         "Hawaii",
         "2671"
        ],
        [
         "Nebraska",
         "4223"
        ],
        [
         "Montana",
         "4279"
        ],
        [
         "Delaware",
         "6107"
        ],
        [
         "Rhode Island",
         "6183"
        ],
        [
         "West Virginia",
         "6773"
        ],
        [
         "Mississippi",
         "7214"
        ],
        [
         "Utah",
         "7978"
        ],
        [
         "Connecticut",
         "8088"
        ],
        [
         "Nevada",
         "8926"
        ],
        [
         "Idaho",
         "10299"
        ],
        [
         "Kansas",
         "10747"
        ],
        [
         "Arkansas",
         "10866"
        ],
        [
         "Indiana",
         "11124"
        ],
        [
         "New Mexico",
         "11621"
        ],
        [
         "Louisiana",
         "13750"
        ],
        [
         "Alabama",
         "13763"
        ],
        [
         "Kentucky",
         "16011"
        ],
        [
         "Iowa",
         "16031"
        ],
        [
         "Colorado",
         "16296"
        ],
        [
         "Wisconsin",
         "17887"
        ],
        [
         "Tennessee",
         "19021"
        ],
        [
         "Oregon",
         "19998"
        ],
        [
         "Michigan",
         "20429"
        ],
        [
         "South Carolina",
         "22967"
        ],
        [
         "Massachusetts",
         "23937"
        ],
        [
         "Oklahoma",
         "26048"
        ],
        [
         "Missouri",
         "29125"
        ],
        [
         "Minnesota",
         "31594"
        ],
        [
         "New Jersey",
         "31709"
        ],
        [
         "Maryland",
         "31784"
        ],
        [
         "Washington",
         "40048"
        ],
        [
         "Virginia",
         "40745"
        ],
        [
         "Ohio",
         "40788"
        ],
        [
         "North Carolina",
         "42996"
        ],
        [
         "Illinois",
         "47961"
        ],
        [
         "Arizona",
         "50962"
        ],
        [
         "New York",
         "51446"
        ],
        [
         "Georgia",
         "52280"
        ]
       ],
       "shape": {
        "columns": 1,
        "rows": 54
       }
      },
      "text/plain": [
       "state\n",
       "Guam                       104\n",
       "Virgin Islands             115\n",
       "Alaska                     781\n",
       "Vermont                   1137\n",
       "Puerto Rico               1587\n",
       "Wyoming                   1591\n",
       "New Hampshire             1603\n",
       "District of Columbia      1689\n",
       "South Dakota              1913\n",
       "Maine                     2065\n",
       "North Dakota              2312\n",
       "Hawaii                    2671\n",
       "Nebraska                  4223\n",
       "Montana                   4279\n",
       "Delaware                  6107\n",
       "Rhode Island              6183\n",
       "West Virginia             6773\n",
       "Mississippi               7214\n",
       "Utah                      7978\n",
       "Connecticut               8088\n",
       "Nevada                    8926\n",
       "Idaho                    10299\n",
       "Kansas                   10747\n",
       "Arkansas                 10866\n",
       "Indiana                  11124\n",
       "New Mexico               11621\n",
       "Louisiana                13750\n",
       "Alabama                  13763\n",
       "Kentucky                 16011\n",
       "Iowa                     16031\n",
       "Colorado                 16296\n",
       "Wisconsin                17887\n",
       "Tennessee                19021\n",
       "Oregon                   19998\n",
       "Michigan                 20429\n",
       "South Carolina           22967\n",
       "Massachusetts            23937\n",
       "Oklahoma                 26048\n",
       "Missouri                 29125\n",
       "Minnesota                31594\n",
       "New Jersey               31709\n",
       "Maryland                 31784\n",
       "Washington               40048\n",
       "Virginia                 40745\n",
       "Ohio                     40788\n",
       "North Carolina           42996\n",
       "Illinois                 47961\n",
       "Arizona                  50962\n",
       "New York                 51446\n",
       "Georgia                  52280\n",
       "Pennsylvania             54448\n",
       "Florida                 115779\n",
       "California              124055\n",
       "Texas                   138250\n",
       "Name: count, dtype: int64"
      ]
     },
     "execution_count": 20,
     "metadata": {},
     "output_type": "execute_result"
    }
   ],
   "source": [
    "df['state'].value_counts().sort_values(ascending=True)  "
   ]
  },
  {
   "cell_type": "markdown",
   "metadata": {},
   "source": [
    "I will leave the State variable now to check how it would affect the model. Might have to filter for states that do not have many houses. "
   ]
  },
  {
   "cell_type": "markdown",
   "metadata": {},
   "source": [
    "City Variable"
   ]
  },
  {
   "cell_type": "code",
   "execution_count": null,
   "metadata": {},
   "outputs": [],
   "source": [
    "df['city'].value_counts().sort_values(ascending=False)  "
   ]
  },
  {
   "cell_type": "markdown",
   "metadata": {},
   "source": [
    "The city with the most listings is in Houston. Will see in the model if i need to adjust this. "
   ]
  },
  {
   "cell_type": "markdown",
   "metadata": {},
   "source": [
    "Zip Code"
   ]
  },
  {
   "cell_type": "code",
   "execution_count": null,
   "metadata": {},
   "outputs": [],
   "source": [
    "df['zip_code'].value_counts().sort_values(ascending=False)  "
   ]
  },
  {
   "cell_type": "markdown",
   "metadata": {},
   "source": [
    "Will see later if i need to adjust for the model."
   ]
  },
  {
   "cell_type": "markdown",
   "metadata": {},
   "source": [
    "Previously sold date"
   ]
  },
  {
   "cell_type": "code",
   "execution_count": null,
   "metadata": {},
   "outputs": [],
   "source": [
    "df['prev_sold_date'].describe()"
   ]
  },
  {
   "cell_type": "markdown",
   "metadata": {},
   "source": [
    "The oldest data point is a house in October 2021. The oldest listing in the data is in May of 2022."
   ]
  },
  {
   "cell_type": "markdown",
   "metadata": {},
   "source": [
    "Correlation between price and other variables"
   ]
  },
  {
   "cell_type": "code",
   "execution_count": 21,
   "metadata": {},
   "outputs": [
    {
     "name": "stdout",
     "output_type": "stream",
     "text": [
      "price        1.00\n",
      "bed          0.29\n",
      "bath         0.48\n",
      "house_size   0.47\n",
      "Name: price, dtype: float64\n"
     ]
    }
   ],
   "source": [
    "numeric_df = df[['price', 'bed', 'bath', 'house_size']]\n",
    "correlation = numeric_df.corr()['price']\n",
    "print(correlation)"
   ]
  },
  {
   "cell_type": "markdown",
   "metadata": {},
   "source": [
    "The variables bed, bath, and house size have a positive correlation with price. The numeric variables I will use are bath, bed, and house size since they will be the most important for predicting home prices."
   ]
  },
  {
   "cell_type": "markdown",
   "metadata": {},
   "source": [
    "Save and import the Data"
   ]
  },
  {
   "cell_type": "code",
   "execution_count": null,
   "metadata": {},
   "outputs": [],
   "source": [
    "df.to_csv('Real_Estate_Model.csv', index=False)"
   ]
  }
 ],
 "metadata": {
  "kernelspec": {
   "display_name": "venv",
   "language": "python",
   "name": "python3"
  },
  "language_info": {
   "codemirror_mode": {
    "name": "ipython",
    "version": 3
   },
   "file_extension": ".py",
   "mimetype": "text/x-python",
   "name": "python",
   "nbconvert_exporter": "python",
   "pygments_lexer": "ipython3",
   "version": "3.13.1"
  }
 },
 "nbformat": 4,
 "nbformat_minor": 2
}
